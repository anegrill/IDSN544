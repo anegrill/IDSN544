{
  "metadata": {
    "kernelspec": {
      "display_name": "Python 3",
      "name": "python3"
    },
    "language_info": {
      "name": "python",
      "version": "3.10.14",
      "mimetype": "text/x-python",
      "codemirror_mode": {
        "name": "ipython",
        "version": 3
      },
      "pygments_lexer": "ipython3",
      "nbconvert_exporter": "python",
      "file_extension": ".py"
    },
    "kaggle": {
      "accelerator": "none",
      "dataSources": [
        {
          "sourceId": 9439793,
          "sourceType": "datasetVersion",
          "datasetId": 5736258
        },
        {
          "sourceId": 9439878,
          "sourceType": "datasetVersion",
          "datasetId": 5736311
        }
      ],
      "dockerImageVersionId": 30761,
      "isInternetEnabled": true,
      "language": "python",
      "sourceType": "notebook",
      "isGpuEnabled": false
    },
    "colab": {
      "name": "IDSN-544 - fast.ai C4",
      "provenance": [],
      "gpuType": "A100",
      "include_colab_link": true
    },
    "accelerator": "GPU"
  },
  "nbformat_minor": 0,
  "nbformat": 4,
  "cells": [
    {
      "cell_type": "markdown",
      "metadata": {
        "id": "view-in-github",
        "colab_type": "text"
      },
      "source": [
        "<a href=\"https://colab.research.google.com/github/anegrill/IDSN544/blob/main/IDSN_544_fast_ai_C4.ipynb\" target=\"_parent\"><img src=\"https://colab.research.google.com/assets/colab-badge.svg\" alt=\"Open In Colab\"/></a>"
      ]
    },
    {
      "source": [
        "\n",
        "# IMPORTANT: RUN THIS CELL IN ORDER TO IMPORT YOUR KAGGLE DATA SOURCES\n",
        "# TO THE CORRECT LOCATION (/kaggle/input) IN YOUR NOTEBOOK,\n",
        "# THEN FEEL FREE TO DELETE THIS CELL.\n",
        "# NOTE: THIS NOTEBOOK ENVIRONMENT DIFFERS FROM KAGGLE'S PYTHON\n",
        "# ENVIRONMENT SO THERE MAY BE MISSING LIBRARIES USED BY YOUR\n",
        "# NOTEBOOK.\n",
        "\n",
        "import os\n",
        "import sys\n",
        "from tempfile import NamedTemporaryFile\n",
        "from urllib.request import urlopen\n",
        "from urllib.parse import unquote, urlparse\n",
        "from urllib.error import HTTPError\n",
        "from zipfile import ZipFile\n",
        "import tarfile\n",
        "import shutil\n",
        "\n",
        "CHUNK_SIZE = 40960\n",
        "DATA_SOURCE_MAPPING = 'd/aaronnegrillo/yelp-review-full-xiang-zhang-et-al-2015:https%3A%2F%2Fstorage.googleapis.com%2Fkaggle-data-sets%2F5736311%2F9439878%2Fbundle%2Farchive.zip%3FX-Goog-Algorithm%3DGOOG4-RSA-SHA256%26X-Goog-Credential%3Dgcp-kaggle-com%2540kaggle-161607.iam.gserviceaccount.com%252F20240921%252Fauto%252Fstorage%252Fgoog4_request%26X-Goog-Date%3D20240921T043031Z%26X-Goog-Expires%3D259200%26X-Goog-SignedHeaders%3Dhost%26X-Goog-Signature%3D4214ffcf0f332da5694cc7b95325d946f11b93e275352463ee4d91812f7997d9f358182f7296d19d50d4fc871028a140f78d8831eb09986a70060d488af20d36673fb7e9c85fc6ee0a2cdeb5bf0db15380f390606859ab6bb5cbc99e6deec9b35ffe65e5b5f4fc740318fba0242038ef7a36c4cbae8a83dbe9475872702853a2b4675fdce0ac5fa163830036c9521c1c15118071a22353840abd9b6368a563ff48510e2521899c7fe7290c66a7dc6631f10982744e8eb2dcd97358209d91bdd1df6814bbe608504b3c119be2f052850983ccdaf84afacf3a65ae0bed8df7379206413b9e8d0ec042d7bd844d3185587e8faaf2787962a2133e997735da7d0dd0'\n",
        "\n",
        "KAGGLE_INPUT_PATH='/kaggle/input'\n",
        "KAGGLE_WORKING_PATH='/kaggle/working'\n",
        "KAGGLE_SYMLINK='kaggle'\n",
        "\n",
        "!umount /kaggle/input/ 2> /dev/null\n",
        "shutil.rmtree('/kaggle/input', ignore_errors=True)\n",
        "os.makedirs(KAGGLE_INPUT_PATH, 0o777, exist_ok=True)\n",
        "os.makedirs(KAGGLE_WORKING_PATH, 0o777, exist_ok=True)\n",
        "\n",
        "try:\n",
        "  os.symlink(KAGGLE_INPUT_PATH, os.path.join(\"..\", 'input'), target_is_directory=True)\n",
        "except FileExistsError:\n",
        "  pass\n",
        "try:\n",
        "  os.symlink(KAGGLE_WORKING_PATH, os.path.join(\"..\", 'working'), target_is_directory=True)\n",
        "except FileExistsError:\n",
        "  pass\n",
        "\n",
        "for data_source_mapping in DATA_SOURCE_MAPPING.split(','):\n",
        "    directory, download_url_encoded = data_source_mapping.split(':')\n",
        "    download_url = unquote(download_url_encoded)\n",
        "    filename = urlparse(download_url).path\n",
        "    destination_path = os.path.join(KAGGLE_INPUT_PATH, directory)\n",
        "    try:\n",
        "        with urlopen(download_url) as fileres, NamedTemporaryFile() as tfile:\n",
        "            total_length = fileres.headers['content-length']\n",
        "            print(f'Downloading {directory}, {total_length} bytes compressed')\n",
        "            dl = 0\n",
        "            data = fileres.read(CHUNK_SIZE)\n",
        "            while len(data) > 0:\n",
        "                dl += len(data)\n",
        "                tfile.write(data)\n",
        "                done = int(50 * dl / int(total_length))\n",
        "                sys.stdout.write(f\"\\r[{'=' * done}{' ' * (50-done)}] {dl} bytes downloaded\")\n",
        "                sys.stdout.flush()\n",
        "                data = fileres.read(CHUNK_SIZE)\n",
        "            if filename.endswith('.zip'):\n",
        "              with ZipFile(tfile) as zfile:\n",
        "                zfile.extractall(destination_path)\n",
        "            else:\n",
        "              with tarfile.open(tfile.name) as tarfile:\n",
        "                tarfile.extractall(destination_path)\n",
        "            print(f'\\nDownloaded and uncompressed: {directory}')\n",
        "    except HTTPError as e:\n",
        "        print(f'Failed to load (likely expired) {download_url} to path {destination_path}')\n",
        "        continue\n",
        "    except OSError as e:\n",
        "        print(f'Failed to load {download_url} to path {destination_path}')\n",
        "        continue\n",
        "\n",
        "print('Data source import complete.')\n"
      ],
      "metadata": {
        "colab": {
          "base_uri": "https://localhost:8080/"
        },
        "id": "_b8QsJK22JHu",
        "outputId": "32fd3ec0-2f8c-4c9a-b714-b898f78ea604"
      },
      "cell_type": "code",
      "outputs": [
        {
          "output_type": "stream",
          "name": "stdout",
          "text": [
            "Downloading d/aaronnegrillo/yelp-review-full-xiang-zhang-et-al-2015, 199990031 bytes compressed\n",
            "[==================================================] 199990031 bytes downloaded\n",
            "Downloaded and uncompressed: d/aaronnegrillo/yelp-review-full-xiang-zhang-et-al-2015\n",
            "Data source import complete.\n"
          ]
        }
      ],
      "execution_count": 1
    },
    {
      "cell_type": "markdown",
      "source": [
        "Aaron Negrillo <br>\n",
        "IDSN 544, Fall 2024 <br>\n",
        "anegrill@USC.edu"
      ],
      "metadata": {
        "id": "ZfvzbVHe2JHx"
      }
    },
    {
      "cell_type": "markdown",
      "source": [
        "### fast.ai Chapter 4 Exercise - Natural Language Processing\n",
        "\n",
        "For this exercise, we will use the fast.ai library to build a sample NLP model with the `AMAZON_REVIEWS` dataset."
      ],
      "metadata": {
        "id": "eD0bQlUQ2JHx"
      }
    },
    {
      "cell_type": "code",
      "source": [
        "# pip install fastai --upgrade"
      ],
      "metadata": {
        "trusted": true,
        "id": "t_BAN2fk2JHy"
      },
      "execution_count": null,
      "outputs": []
    },
    {
      "cell_type": "code",
      "source": [
        "# Import necessary modules\n",
        "from fastai.text.all import *\n",
        "from fastai.tabular.all import *\n",
        "import os"
      ],
      "metadata": {
        "_uuid": "8f2839f25d086af736a60e9eeb907d3b93b6e0e5",
        "_cell_guid": "b1076dfc-b9ad-4769-8c92-a6c4dae69d19",
        "execution": {
          "iopub.status.busy": "2024-09-20T06:16:05.77889Z",
          "iopub.execute_input": "2024-09-20T06:16:05.779311Z",
          "iopub.status.idle": "2024-09-20T06:16:10.142035Z",
          "shell.execute_reply.started": "2024-09-20T06:16:05.779267Z",
          "shell.execute_reply": "2024-09-20T06:16:10.140594Z"
        },
        "trusted": true,
        "id": "-YrO5I_e2JHy"
      },
      "execution_count": 2,
      "outputs": []
    },
    {
      "cell_type": "code",
      "source": [
        "# Define the path to the dataset\n",
        "data_path = '../input/d/aaronnegrillo/yelp-review-full-xiang-zhang-et-al-2015/'"
      ],
      "metadata": {
        "execution": {
          "iopub.status.busy": "2024-09-20T06:16:10.14424Z",
          "iopub.execute_input": "2024-09-20T06:16:10.145215Z",
          "iopub.status.idle": "2024-09-20T06:16:10.15063Z",
          "shell.execute_reply.started": "2024-09-20T06:16:10.145165Z",
          "shell.execute_reply": "2024-09-20T06:16:10.149099Z"
        },
        "trusted": true,
        "id": "FBxDapAA2JHy"
      },
      "execution_count": 3,
      "outputs": []
    },
    {
      "cell_type": "code",
      "source": [
        "# List files in the dataset directory\n",
        "files = os.listdir(data_path)\n",
        "print(files)"
      ],
      "metadata": {
        "execution": {
          "iopub.status.busy": "2024-09-20T06:16:10.152494Z",
          "iopub.execute_input": "2024-09-20T06:16:10.152948Z",
          "iopub.status.idle": "2024-09-20T06:16:10.170073Z",
          "shell.execute_reply.started": "2024-09-20T06:16:10.152901Z",
          "shell.execute_reply": "2024-09-20T06:16:10.16865Z"
        },
        "trusted": true,
        "colab": {
          "base_uri": "https://localhost:8080/"
        },
        "id": "S5qFL74X2JHy",
        "outputId": "bcfced95-39bb-41d5-cee7-afc408b0fa96"
      },
      "execution_count": 4,
      "outputs": [
        {
          "output_type": "stream",
          "name": "stdout",
          "text": [
            "['readme.txt', 'train.csv', 'test.csv']\n"
          ]
        }
      ]
    },
    {
      "cell_type": "code",
      "source": [
        "# Load train and test datasets\n",
        "train_df = pd.read_csv(os.path.join(data_path, 'train.csv'))"
      ],
      "metadata": {
        "execution": {
          "iopub.status.busy": "2024-09-20T06:16:10.172889Z",
          "iopub.execute_input": "2024-09-20T06:16:10.173306Z",
          "iopub.status.idle": "2024-09-20T06:16:15.596059Z",
          "shell.execute_reply.started": "2024-09-20T06:16:10.173262Z",
          "shell.execute_reply": "2024-09-20T06:16:15.594754Z"
        },
        "trusted": true,
        "id": "pfe2PzfL2JHy"
      },
      "execution_count": 5,
      "outputs": []
    },
    {
      "cell_type": "code",
      "source": [
        "print(train_df.info())"
      ],
      "metadata": {
        "execution": {
          "iopub.status.busy": "2024-09-20T06:16:26.865554Z",
          "iopub.execute_input": "2024-09-20T06:16:26.866747Z",
          "iopub.status.idle": "2024-09-20T06:16:26.983286Z",
          "shell.execute_reply.started": "2024-09-20T06:16:26.86669Z",
          "shell.execute_reply": "2024-09-20T06:16:26.982089Z"
        },
        "trusted": true,
        "colab": {
          "base_uri": "https://localhost:8080/"
        },
        "id": "WA1DVkLF2JHz",
        "outputId": "f184b0ed-588a-41c7-e581-4b07ce50e7a9"
      },
      "execution_count": 6,
      "outputs": [
        {
          "output_type": "stream",
          "name": "stdout",
          "text": [
            "<class 'pandas.core.frame.DataFrame'>\n",
            "RangeIndex: 649999 entries, 0 to 649998\n",
            "Data columns (total 2 columns):\n",
            " #   Column                                                                                                                                                                                                                                                                                                                                                                                                                                                                                                                                                  Non-Null Count   Dtype \n",
            "---  ------                                                                                                                                                                                                                                                                                                                                                                                                                                                                                                                                                  --------------   ----- \n",
            " 0   5                                                                                                                                                                                                                                                                                                                                                                                                                                                                                                                                                       649999 non-null  int64 \n",
            " 1   dr. goldberg offers everything i look for in a general practitioner.  he's nice and easy to talk to without being patronizing; he's always on time in seeing his patients; he's affiliated with a top-notch hospital (nyu) which my parents have explained to me is very important in case something happens and you need surgery; and you can get referrals to see specialists without having to see him first.  really, what more do you need?  i'm sitting here trying to think of any complaints i have about him, but i'm really drawing a blank.  649999 non-null  object\n",
            "dtypes: int64(1), object(1)\n",
            "memory usage: 9.9+ MB\n",
            "None\n"
          ]
        }
      ]
    },
    {
      "cell_type": "code",
      "source": [
        "# Preview the Dataframe\n",
        "train_df.head(5)"
      ],
      "metadata": {
        "execution": {
          "iopub.status.busy": "2024-09-20T06:16:15.598231Z",
          "iopub.execute_input": "2024-09-20T06:16:15.598652Z",
          "iopub.status.idle": "2024-09-20T06:16:15.614558Z",
          "shell.execute_reply.started": "2024-09-20T06:16:15.598609Z",
          "shell.execute_reply": "2024-09-20T06:16:15.613302Z"
        },
        "trusted": true,
        "colab": {
          "base_uri": "https://localhost:8080/",
          "height": 762
        },
        "id": "pNaGXaFM2JHz",
        "outputId": "1cf1f4fd-a86c-4b95-f526-0a6aa12c54bb"
      },
      "execution_count": 7,
      "outputs": [
        {
          "output_type": "execute_result",
          "data": {
            "text/plain": [
              "   5  \\\n",
              "0  2   \n",
              "1  4   \n",
              "2  4   \n",
              "3  1   \n",
              "4  5   \n",
              "\n",
              "                                                                    dr. goldberg offers everything i look for in a general practitioner.  he's nice and easy to talk to without being patronizing; he's always on time in seeing his patients; he's affiliated with a top-notch hospital (nyu) which my parents have explained to me is very important in case something happens and you need surgery; and you can get referrals to see specialists without having to see him first.  really, what more do you need?  i'm sitting here trying to think of any complaints i have about him, but i'm really drawing a blank.  \n",
              "0  Unfortunately, the frustration of being Dr. Goldberg's patient is a repeat of the experience I've had with so many other doctors in NYC -- good doctor, terrible staff.  It seems that his staff simply never answers the phone.  It usually takes 2 hours of repeated calling to get an answer.  Who has time for that or wants to deal with it?  I have run into this problem with many other doctors and I just don't get it.  You have office workers, you have patients with medical needs, why isn't anyone answering the phone?  It's incomprehensible and not work the aggravation.  It's with regret that I...  \n",
              "1                                                                                                          Been going to Dr. Goldberg for over 10 years. I think I was one of his 1st patients when he started at MHMG. He's been great over the years and is really all about the big picture. It is because of him, not my now former gyn Dr. Markoff, that I found out I have fibroids. He explores all options with you and is very patient and understanding. He doesn't judge and asks all the right questions. Very thorough and wants to be kept in the loop on every aspect of your medical health and your life.  \n",
              "2                                                                                                                                                                                                                                                                                                                                                    Got a letter in the mail last week that said Dr. Goldberg is moving to Arizona to take a new position there in June.  He will be missed very much.  \\n\\nI think finding a new doctor in NYC that you actually like might almost be as awful as trying to find a date!  \n",
              "3  I don't know what Dr. Goldberg was like before  moving to Arizona, but let me tell you, STAY AWAY from this doctor and this office. I was going to Dr. Johnson before he left and Goldberg took over when Johnson left. He is not a caring doctor. He is only interested in the co-pay and having you come in for medication refills every month. He will not give refills and could less about patients's financial situations. Trying to get your 90 days mail away pharmacy prescriptions through this guy is a joke. And to make matters even worse, his office staff is incompetent. 90% of the time when you c...  \n",
              "4                                                                                                                                                                                                                                                                                             Top notch doctor in a top notch practice. Can't say I am surprised when I was referred to him by another doctor who I think is wonderful and because he went to one of the best medical schools in the country. \\nIt is really easy to get an appointment. There is minimal wait to be seen and his bedside manner is great.  "
            ],
            "text/html": [
              "\n",
              "  <div id=\"df-91a400a8-a094-48b3-b5f4-da39f361ae53\" class=\"colab-df-container\">\n",
              "    <div>\n",
              "<style scoped>\n",
              "    .dataframe tbody tr th:only-of-type {\n",
              "        vertical-align: middle;\n",
              "    }\n",
              "\n",
              "    .dataframe tbody tr th {\n",
              "        vertical-align: top;\n",
              "    }\n",
              "\n",
              "    .dataframe thead th {\n",
              "        text-align: right;\n",
              "    }\n",
              "</style>\n",
              "<table border=\"1\" class=\"dataframe\">\n",
              "  <thead>\n",
              "    <tr style=\"text-align: right;\">\n",
              "      <th></th>\n",
              "      <th>5</th>\n",
              "      <th>dr. goldberg offers everything i look for in a general practitioner.  he's nice and easy to talk to without being patronizing; he's always on time in seeing his patients; he's affiliated with a top-notch hospital (nyu) which my parents have explained to me is very important in case something happens and you need surgery; and you can get referrals to see specialists without having to see him first.  really, what more do you need?  i'm sitting here trying to think of any complaints i have about him, but i'm really drawing a blank.</th>\n",
              "    </tr>\n",
              "  </thead>\n",
              "  <tbody>\n",
              "    <tr>\n",
              "      <th>0</th>\n",
              "      <td>2</td>\n",
              "      <td>Unfortunately, the frustration of being Dr. Goldberg's patient is a repeat of the experience I've had with so many other doctors in NYC -- good doctor, terrible staff.  It seems that his staff simply never answers the phone.  It usually takes 2 hours of repeated calling to get an answer.  Who has time for that or wants to deal with it?  I have run into this problem with many other doctors and I just don't get it.  You have office workers, you have patients with medical needs, why isn't anyone answering the phone?  It's incomprehensible and not work the aggravation.  It's with regret that I...</td>\n",
              "    </tr>\n",
              "    <tr>\n",
              "      <th>1</th>\n",
              "      <td>4</td>\n",
              "      <td>Been going to Dr. Goldberg for over 10 years. I think I was one of his 1st patients when he started at MHMG. He's been great over the years and is really all about the big picture. It is because of him, not my now former gyn Dr. Markoff, that I found out I have fibroids. He explores all options with you and is very patient and understanding. He doesn't judge and asks all the right questions. Very thorough and wants to be kept in the loop on every aspect of your medical health and your life.</td>\n",
              "    </tr>\n",
              "    <tr>\n",
              "      <th>2</th>\n",
              "      <td>4</td>\n",
              "      <td>Got a letter in the mail last week that said Dr. Goldberg is moving to Arizona to take a new position there in June.  He will be missed very much.  \\n\\nI think finding a new doctor in NYC that you actually like might almost be as awful as trying to find a date!</td>\n",
              "    </tr>\n",
              "    <tr>\n",
              "      <th>3</th>\n",
              "      <td>1</td>\n",
              "      <td>I don't know what Dr. Goldberg was like before  moving to Arizona, but let me tell you, STAY AWAY from this doctor and this office. I was going to Dr. Johnson before he left and Goldberg took over when Johnson left. He is not a caring doctor. He is only interested in the co-pay and having you come in for medication refills every month. He will not give refills and could less about patients's financial situations. Trying to get your 90 days mail away pharmacy prescriptions through this guy is a joke. And to make matters even worse, his office staff is incompetent. 90% of the time when you c...</td>\n",
              "    </tr>\n",
              "    <tr>\n",
              "      <th>4</th>\n",
              "      <td>5</td>\n",
              "      <td>Top notch doctor in a top notch practice. Can't say I am surprised when I was referred to him by another doctor who I think is wonderful and because he went to one of the best medical schools in the country. \\nIt is really easy to get an appointment. There is minimal wait to be seen and his bedside manner is great.</td>\n",
              "    </tr>\n",
              "  </tbody>\n",
              "</table>\n",
              "</div>\n",
              "    <div class=\"colab-df-buttons\">\n",
              "\n",
              "  <div class=\"colab-df-container\">\n",
              "    <button class=\"colab-df-convert\" onclick=\"convertToInteractive('df-91a400a8-a094-48b3-b5f4-da39f361ae53')\"\n",
              "            title=\"Convert this dataframe to an interactive table.\"\n",
              "            style=\"display:none;\">\n",
              "\n",
              "  <svg xmlns=\"http://www.w3.org/2000/svg\" height=\"24px\" viewBox=\"0 -960 960 960\">\n",
              "    <path d=\"M120-120v-720h720v720H120Zm60-500h600v-160H180v160Zm220 220h160v-160H400v160Zm0 220h160v-160H400v160ZM180-400h160v-160H180v160Zm440 0h160v-160H620v160ZM180-180h160v-160H180v160Zm440 0h160v-160H620v160Z\"/>\n",
              "  </svg>\n",
              "    </button>\n",
              "\n",
              "  <style>\n",
              "    .colab-df-container {\n",
              "      display:flex;\n",
              "      gap: 12px;\n",
              "    }\n",
              "\n",
              "    .colab-df-convert {\n",
              "      background-color: #E8F0FE;\n",
              "      border: none;\n",
              "      border-radius: 50%;\n",
              "      cursor: pointer;\n",
              "      display: none;\n",
              "      fill: #1967D2;\n",
              "      height: 32px;\n",
              "      padding: 0 0 0 0;\n",
              "      width: 32px;\n",
              "    }\n",
              "\n",
              "    .colab-df-convert:hover {\n",
              "      background-color: #E2EBFA;\n",
              "      box-shadow: 0px 1px 2px rgba(60, 64, 67, 0.3), 0px 1px 3px 1px rgba(60, 64, 67, 0.15);\n",
              "      fill: #174EA6;\n",
              "    }\n",
              "\n",
              "    .colab-df-buttons div {\n",
              "      margin-bottom: 4px;\n",
              "    }\n",
              "\n",
              "    [theme=dark] .colab-df-convert {\n",
              "      background-color: #3B4455;\n",
              "      fill: #D2E3FC;\n",
              "    }\n",
              "\n",
              "    [theme=dark] .colab-df-convert:hover {\n",
              "      background-color: #434B5C;\n",
              "      box-shadow: 0px 1px 3px 1px rgba(0, 0, 0, 0.15);\n",
              "      filter: drop-shadow(0px 1px 2px rgba(0, 0, 0, 0.3));\n",
              "      fill: #FFFFFF;\n",
              "    }\n",
              "  </style>\n",
              "\n",
              "    <script>\n",
              "      const buttonEl =\n",
              "        document.querySelector('#df-91a400a8-a094-48b3-b5f4-da39f361ae53 button.colab-df-convert');\n",
              "      buttonEl.style.display =\n",
              "        google.colab.kernel.accessAllowed ? 'block' : 'none';\n",
              "\n",
              "      async function convertToInteractive(key) {\n",
              "        const element = document.querySelector('#df-91a400a8-a094-48b3-b5f4-da39f361ae53');\n",
              "        const dataTable =\n",
              "          await google.colab.kernel.invokeFunction('convertToInteractive',\n",
              "                                                    [key], {});\n",
              "        if (!dataTable) return;\n",
              "\n",
              "        const docLinkHtml = 'Like what you see? Visit the ' +\n",
              "          '<a target=\"_blank\" href=https://colab.research.google.com/notebooks/data_table.ipynb>data table notebook</a>'\n",
              "          + ' to learn more about interactive tables.';\n",
              "        element.innerHTML = '';\n",
              "        dataTable['output_type'] = 'display_data';\n",
              "        await google.colab.output.renderOutput(dataTable, element);\n",
              "        const docLink = document.createElement('div');\n",
              "        docLink.innerHTML = docLinkHtml;\n",
              "        element.appendChild(docLink);\n",
              "      }\n",
              "    </script>\n",
              "  </div>\n",
              "\n",
              "\n",
              "<div id=\"df-348dc0e4-655d-44af-a198-85e8f5f924d7\">\n",
              "  <button class=\"colab-df-quickchart\" onclick=\"quickchart('df-348dc0e4-655d-44af-a198-85e8f5f924d7')\"\n",
              "            title=\"Suggest charts\"\n",
              "            style=\"display:none;\">\n",
              "\n",
              "<svg xmlns=\"http://www.w3.org/2000/svg\" height=\"24px\"viewBox=\"0 0 24 24\"\n",
              "     width=\"24px\">\n",
              "    <g>\n",
              "        <path d=\"M19 3H5c-1.1 0-2 .9-2 2v14c0 1.1.9 2 2 2h14c1.1 0 2-.9 2-2V5c0-1.1-.9-2-2-2zM9 17H7v-7h2v7zm4 0h-2V7h2v10zm4 0h-2v-4h2v4z\"/>\n",
              "    </g>\n",
              "</svg>\n",
              "  </button>\n",
              "\n",
              "<style>\n",
              "  .colab-df-quickchart {\n",
              "      --bg-color: #E8F0FE;\n",
              "      --fill-color: #1967D2;\n",
              "      --hover-bg-color: #E2EBFA;\n",
              "      --hover-fill-color: #174EA6;\n",
              "      --disabled-fill-color: #AAA;\n",
              "      --disabled-bg-color: #DDD;\n",
              "  }\n",
              "\n",
              "  [theme=dark] .colab-df-quickchart {\n",
              "      --bg-color: #3B4455;\n",
              "      --fill-color: #D2E3FC;\n",
              "      --hover-bg-color: #434B5C;\n",
              "      --hover-fill-color: #FFFFFF;\n",
              "      --disabled-bg-color: #3B4455;\n",
              "      --disabled-fill-color: #666;\n",
              "  }\n",
              "\n",
              "  .colab-df-quickchart {\n",
              "    background-color: var(--bg-color);\n",
              "    border: none;\n",
              "    border-radius: 50%;\n",
              "    cursor: pointer;\n",
              "    display: none;\n",
              "    fill: var(--fill-color);\n",
              "    height: 32px;\n",
              "    padding: 0;\n",
              "    width: 32px;\n",
              "  }\n",
              "\n",
              "  .colab-df-quickchart:hover {\n",
              "    background-color: var(--hover-bg-color);\n",
              "    box-shadow: 0 1px 2px rgba(60, 64, 67, 0.3), 0 1px 3px 1px rgba(60, 64, 67, 0.15);\n",
              "    fill: var(--button-hover-fill-color);\n",
              "  }\n",
              "\n",
              "  .colab-df-quickchart-complete:disabled,\n",
              "  .colab-df-quickchart-complete:disabled:hover {\n",
              "    background-color: var(--disabled-bg-color);\n",
              "    fill: var(--disabled-fill-color);\n",
              "    box-shadow: none;\n",
              "  }\n",
              "\n",
              "  .colab-df-spinner {\n",
              "    border: 2px solid var(--fill-color);\n",
              "    border-color: transparent;\n",
              "    border-bottom-color: var(--fill-color);\n",
              "    animation:\n",
              "      spin 1s steps(1) infinite;\n",
              "  }\n",
              "\n",
              "  @keyframes spin {\n",
              "    0% {\n",
              "      border-color: transparent;\n",
              "      border-bottom-color: var(--fill-color);\n",
              "      border-left-color: var(--fill-color);\n",
              "    }\n",
              "    20% {\n",
              "      border-color: transparent;\n",
              "      border-left-color: var(--fill-color);\n",
              "      border-top-color: var(--fill-color);\n",
              "    }\n",
              "    30% {\n",
              "      border-color: transparent;\n",
              "      border-left-color: var(--fill-color);\n",
              "      border-top-color: var(--fill-color);\n",
              "      border-right-color: var(--fill-color);\n",
              "    }\n",
              "    40% {\n",
              "      border-color: transparent;\n",
              "      border-right-color: var(--fill-color);\n",
              "      border-top-color: var(--fill-color);\n",
              "    }\n",
              "    60% {\n",
              "      border-color: transparent;\n",
              "      border-right-color: var(--fill-color);\n",
              "    }\n",
              "    80% {\n",
              "      border-color: transparent;\n",
              "      border-right-color: var(--fill-color);\n",
              "      border-bottom-color: var(--fill-color);\n",
              "    }\n",
              "    90% {\n",
              "      border-color: transparent;\n",
              "      border-bottom-color: var(--fill-color);\n",
              "    }\n",
              "  }\n",
              "</style>\n",
              "\n",
              "  <script>\n",
              "    async function quickchart(key) {\n",
              "      const quickchartButtonEl =\n",
              "        document.querySelector('#' + key + ' button');\n",
              "      quickchartButtonEl.disabled = true;  // To prevent multiple clicks.\n",
              "      quickchartButtonEl.classList.add('colab-df-spinner');\n",
              "      try {\n",
              "        const charts = await google.colab.kernel.invokeFunction(\n",
              "            'suggestCharts', [key], {});\n",
              "      } catch (error) {\n",
              "        console.error('Error during call to suggestCharts:', error);\n",
              "      }\n",
              "      quickchartButtonEl.classList.remove('colab-df-spinner');\n",
              "      quickchartButtonEl.classList.add('colab-df-quickchart-complete');\n",
              "    }\n",
              "    (() => {\n",
              "      let quickchartButtonEl =\n",
              "        document.querySelector('#df-348dc0e4-655d-44af-a198-85e8f5f924d7 button');\n",
              "      quickchartButtonEl.style.display =\n",
              "        google.colab.kernel.accessAllowed ? 'block' : 'none';\n",
              "    })();\n",
              "  </script>\n",
              "</div>\n",
              "\n",
              "    </div>\n",
              "  </div>\n"
            ],
            "application/vnd.google.colaboratory.intrinsic+json": {
              "type": "dataframe",
              "variable_name": "train_df"
            }
          },
          "metadata": {},
          "execution_count": 7
        }
      ]
    },
    {
      "cell_type": "markdown",
      "source": [
        "We seem to be missing headers, so let's assign those"
      ],
      "metadata": {
        "id": "PcyFbarM2JHz"
      }
    },
    {
      "cell_type": "code",
      "source": [
        "# Set column names\n",
        "column_names = ['Score','Review']\n",
        "\n",
        "# Re-define our Dataframe and assign headers\n",
        "train_df = pd.read_csv(os.path.join(data_path, 'train.csv'), header=None, names=column_names)"
      ],
      "metadata": {
        "execution": {
          "iopub.status.busy": "2024-09-20T06:16:15.615997Z",
          "iopub.execute_input": "2024-09-20T06:16:15.616398Z",
          "iopub.status.idle": "2024-09-20T06:16:21.194131Z",
          "shell.execute_reply.started": "2024-09-20T06:16:15.616356Z",
          "shell.execute_reply": "2024-09-20T06:16:21.192802Z"
        },
        "trusted": true,
        "id": "6ddyGYDr2JHz"
      },
      "execution_count": 8,
      "outputs": []
    },
    {
      "cell_type": "code",
      "source": [
        "# Preview the *updated* Dataframe\n",
        "train_df.head(5)"
      ],
      "metadata": {
        "execution": {
          "iopub.status.busy": "2024-09-20T06:16:21.196706Z",
          "iopub.execute_input": "2024-09-20T06:16:21.197291Z",
          "iopub.status.idle": "2024-09-20T06:16:21.213238Z",
          "shell.execute_reply.started": "2024-09-20T06:16:21.197229Z",
          "shell.execute_reply": "2024-09-20T06:16:21.211703Z"
        },
        "trusted": true,
        "colab": {
          "base_uri": "https://localhost:8080/",
          "height": 710
        },
        "id": "ltyfN7lh2JHz",
        "outputId": "c7f37279-74ee-4df0-ed45-6e875c317b07"
      },
      "execution_count": 9,
      "outputs": [
        {
          "output_type": "execute_result",
          "data": {
            "text/plain": [
              "   Score  \\\n",
              "0      5   \n",
              "1      2   \n",
              "2      4   \n",
              "3      4   \n",
              "4      1   \n",
              "\n",
              "                                                                                                                                                                                                                                                                                                                                                                                                                                                                                                                                                                                                                    Review  \n",
              "0                                                                   dr. goldberg offers everything i look for in a general practitioner.  he's nice and easy to talk to without being patronizing; he's always on time in seeing his patients; he's affiliated with a top-notch hospital (nyu) which my parents have explained to me is very important in case something happens and you need surgery; and you can get referrals to see specialists without having to see him first.  really, what more do you need?  i'm sitting here trying to think of any complaints i have about him, but i'm really drawing a blank.  \n",
              "1  Unfortunately, the frustration of being Dr. Goldberg's patient is a repeat of the experience I've had with so many other doctors in NYC -- good doctor, terrible staff.  It seems that his staff simply never answers the phone.  It usually takes 2 hours of repeated calling to get an answer.  Who has time for that or wants to deal with it?  I have run into this problem with many other doctors and I just don't get it.  You have office workers, you have patients with medical needs, why isn't anyone answering the phone?  It's incomprehensible and not work the aggravation.  It's with regret that I...  \n",
              "2                                                                                                          Been going to Dr. Goldberg for over 10 years. I think I was one of his 1st patients when he started at MHMG. He's been great over the years and is really all about the big picture. It is because of him, not my now former gyn Dr. Markoff, that I found out I have fibroids. He explores all options with you and is very patient and understanding. He doesn't judge and asks all the right questions. Very thorough and wants to be kept in the loop on every aspect of your medical health and your life.  \n",
              "3                                                                                                                                                                                                                                                                                                                                                    Got a letter in the mail last week that said Dr. Goldberg is moving to Arizona to take a new position there in June.  He will be missed very much.  \\n\\nI think finding a new doctor in NYC that you actually like might almost be as awful as trying to find a date!  \n",
              "4  I don't know what Dr. Goldberg was like before  moving to Arizona, but let me tell you, STAY AWAY from this doctor and this office. I was going to Dr. Johnson before he left and Goldberg took over when Johnson left. He is not a caring doctor. He is only interested in the co-pay and having you come in for medication refills every month. He will not give refills and could less about patients's financial situations. Trying to get your 90 days mail away pharmacy prescriptions through this guy is a joke. And to make matters even worse, his office staff is incompetent. 90% of the time when you c...  "
            ],
            "text/html": [
              "\n",
              "  <div id=\"df-8c9ed25e-f5d3-4fcd-9257-071140c80c1f\" class=\"colab-df-container\">\n",
              "    <div>\n",
              "<style scoped>\n",
              "    .dataframe tbody tr th:only-of-type {\n",
              "        vertical-align: middle;\n",
              "    }\n",
              "\n",
              "    .dataframe tbody tr th {\n",
              "        vertical-align: top;\n",
              "    }\n",
              "\n",
              "    .dataframe thead th {\n",
              "        text-align: right;\n",
              "    }\n",
              "</style>\n",
              "<table border=\"1\" class=\"dataframe\">\n",
              "  <thead>\n",
              "    <tr style=\"text-align: right;\">\n",
              "      <th></th>\n",
              "      <th>Score</th>\n",
              "      <th>Review</th>\n",
              "    </tr>\n",
              "  </thead>\n",
              "  <tbody>\n",
              "    <tr>\n",
              "      <th>0</th>\n",
              "      <td>5</td>\n",
              "      <td>dr. goldberg offers everything i look for in a general practitioner.  he's nice and easy to talk to without being patronizing; he's always on time in seeing his patients; he's affiliated with a top-notch hospital (nyu) which my parents have explained to me is very important in case something happens and you need surgery; and you can get referrals to see specialists without having to see him first.  really, what more do you need?  i'm sitting here trying to think of any complaints i have about him, but i'm really drawing a blank.</td>\n",
              "    </tr>\n",
              "    <tr>\n",
              "      <th>1</th>\n",
              "      <td>2</td>\n",
              "      <td>Unfortunately, the frustration of being Dr. Goldberg's patient is a repeat of the experience I've had with so many other doctors in NYC -- good doctor, terrible staff.  It seems that his staff simply never answers the phone.  It usually takes 2 hours of repeated calling to get an answer.  Who has time for that or wants to deal with it?  I have run into this problem with many other doctors and I just don't get it.  You have office workers, you have patients with medical needs, why isn't anyone answering the phone?  It's incomprehensible and not work the aggravation.  It's with regret that I...</td>\n",
              "    </tr>\n",
              "    <tr>\n",
              "      <th>2</th>\n",
              "      <td>4</td>\n",
              "      <td>Been going to Dr. Goldberg for over 10 years. I think I was one of his 1st patients when he started at MHMG. He's been great over the years and is really all about the big picture. It is because of him, not my now former gyn Dr. Markoff, that I found out I have fibroids. He explores all options with you and is very patient and understanding. He doesn't judge and asks all the right questions. Very thorough and wants to be kept in the loop on every aspect of your medical health and your life.</td>\n",
              "    </tr>\n",
              "    <tr>\n",
              "      <th>3</th>\n",
              "      <td>4</td>\n",
              "      <td>Got a letter in the mail last week that said Dr. Goldberg is moving to Arizona to take a new position there in June.  He will be missed very much.  \\n\\nI think finding a new doctor in NYC that you actually like might almost be as awful as trying to find a date!</td>\n",
              "    </tr>\n",
              "    <tr>\n",
              "      <th>4</th>\n",
              "      <td>1</td>\n",
              "      <td>I don't know what Dr. Goldberg was like before  moving to Arizona, but let me tell you, STAY AWAY from this doctor and this office. I was going to Dr. Johnson before he left and Goldberg took over when Johnson left. He is not a caring doctor. He is only interested in the co-pay and having you come in for medication refills every month. He will not give refills and could less about patients's financial situations. Trying to get your 90 days mail away pharmacy prescriptions through this guy is a joke. And to make matters even worse, his office staff is incompetent. 90% of the time when you c...</td>\n",
              "    </tr>\n",
              "  </tbody>\n",
              "</table>\n",
              "</div>\n",
              "    <div class=\"colab-df-buttons\">\n",
              "\n",
              "  <div class=\"colab-df-container\">\n",
              "    <button class=\"colab-df-convert\" onclick=\"convertToInteractive('df-8c9ed25e-f5d3-4fcd-9257-071140c80c1f')\"\n",
              "            title=\"Convert this dataframe to an interactive table.\"\n",
              "            style=\"display:none;\">\n",
              "\n",
              "  <svg xmlns=\"http://www.w3.org/2000/svg\" height=\"24px\" viewBox=\"0 -960 960 960\">\n",
              "    <path d=\"M120-120v-720h720v720H120Zm60-500h600v-160H180v160Zm220 220h160v-160H400v160Zm0 220h160v-160H400v160ZM180-400h160v-160H180v160Zm440 0h160v-160H620v160ZM180-180h160v-160H180v160Zm440 0h160v-160H620v160Z\"/>\n",
              "  </svg>\n",
              "    </button>\n",
              "\n",
              "  <style>\n",
              "    .colab-df-container {\n",
              "      display:flex;\n",
              "      gap: 12px;\n",
              "    }\n",
              "\n",
              "    .colab-df-convert {\n",
              "      background-color: #E8F0FE;\n",
              "      border: none;\n",
              "      border-radius: 50%;\n",
              "      cursor: pointer;\n",
              "      display: none;\n",
              "      fill: #1967D2;\n",
              "      height: 32px;\n",
              "      padding: 0 0 0 0;\n",
              "      width: 32px;\n",
              "    }\n",
              "\n",
              "    .colab-df-convert:hover {\n",
              "      background-color: #E2EBFA;\n",
              "      box-shadow: 0px 1px 2px rgba(60, 64, 67, 0.3), 0px 1px 3px 1px rgba(60, 64, 67, 0.15);\n",
              "      fill: #174EA6;\n",
              "    }\n",
              "\n",
              "    .colab-df-buttons div {\n",
              "      margin-bottom: 4px;\n",
              "    }\n",
              "\n",
              "    [theme=dark] .colab-df-convert {\n",
              "      background-color: #3B4455;\n",
              "      fill: #D2E3FC;\n",
              "    }\n",
              "\n",
              "    [theme=dark] .colab-df-convert:hover {\n",
              "      background-color: #434B5C;\n",
              "      box-shadow: 0px 1px 3px 1px rgba(0, 0, 0, 0.15);\n",
              "      filter: drop-shadow(0px 1px 2px rgba(0, 0, 0, 0.3));\n",
              "      fill: #FFFFFF;\n",
              "    }\n",
              "  </style>\n",
              "\n",
              "    <script>\n",
              "      const buttonEl =\n",
              "        document.querySelector('#df-8c9ed25e-f5d3-4fcd-9257-071140c80c1f button.colab-df-convert');\n",
              "      buttonEl.style.display =\n",
              "        google.colab.kernel.accessAllowed ? 'block' : 'none';\n",
              "\n",
              "      async function convertToInteractive(key) {\n",
              "        const element = document.querySelector('#df-8c9ed25e-f5d3-4fcd-9257-071140c80c1f');\n",
              "        const dataTable =\n",
              "          await google.colab.kernel.invokeFunction('convertToInteractive',\n",
              "                                                    [key], {});\n",
              "        if (!dataTable) return;\n",
              "\n",
              "        const docLinkHtml = 'Like what you see? Visit the ' +\n",
              "          '<a target=\"_blank\" href=https://colab.research.google.com/notebooks/data_table.ipynb>data table notebook</a>'\n",
              "          + ' to learn more about interactive tables.';\n",
              "        element.innerHTML = '';\n",
              "        dataTable['output_type'] = 'display_data';\n",
              "        await google.colab.output.renderOutput(dataTable, element);\n",
              "        const docLink = document.createElement('div');\n",
              "        docLink.innerHTML = docLinkHtml;\n",
              "        element.appendChild(docLink);\n",
              "      }\n",
              "    </script>\n",
              "  </div>\n",
              "\n",
              "\n",
              "<div id=\"df-bf6d83aa-6e51-4d3e-b4ff-ff85105d7b6b\">\n",
              "  <button class=\"colab-df-quickchart\" onclick=\"quickchart('df-bf6d83aa-6e51-4d3e-b4ff-ff85105d7b6b')\"\n",
              "            title=\"Suggest charts\"\n",
              "            style=\"display:none;\">\n",
              "\n",
              "<svg xmlns=\"http://www.w3.org/2000/svg\" height=\"24px\"viewBox=\"0 0 24 24\"\n",
              "     width=\"24px\">\n",
              "    <g>\n",
              "        <path d=\"M19 3H5c-1.1 0-2 .9-2 2v14c0 1.1.9 2 2 2h14c1.1 0 2-.9 2-2V5c0-1.1-.9-2-2-2zM9 17H7v-7h2v7zm4 0h-2V7h2v10zm4 0h-2v-4h2v4z\"/>\n",
              "    </g>\n",
              "</svg>\n",
              "  </button>\n",
              "\n",
              "<style>\n",
              "  .colab-df-quickchart {\n",
              "      --bg-color: #E8F0FE;\n",
              "      --fill-color: #1967D2;\n",
              "      --hover-bg-color: #E2EBFA;\n",
              "      --hover-fill-color: #174EA6;\n",
              "      --disabled-fill-color: #AAA;\n",
              "      --disabled-bg-color: #DDD;\n",
              "  }\n",
              "\n",
              "  [theme=dark] .colab-df-quickchart {\n",
              "      --bg-color: #3B4455;\n",
              "      --fill-color: #D2E3FC;\n",
              "      --hover-bg-color: #434B5C;\n",
              "      --hover-fill-color: #FFFFFF;\n",
              "      --disabled-bg-color: #3B4455;\n",
              "      --disabled-fill-color: #666;\n",
              "  }\n",
              "\n",
              "  .colab-df-quickchart {\n",
              "    background-color: var(--bg-color);\n",
              "    border: none;\n",
              "    border-radius: 50%;\n",
              "    cursor: pointer;\n",
              "    display: none;\n",
              "    fill: var(--fill-color);\n",
              "    height: 32px;\n",
              "    padding: 0;\n",
              "    width: 32px;\n",
              "  }\n",
              "\n",
              "  .colab-df-quickchart:hover {\n",
              "    background-color: var(--hover-bg-color);\n",
              "    box-shadow: 0 1px 2px rgba(60, 64, 67, 0.3), 0 1px 3px 1px rgba(60, 64, 67, 0.15);\n",
              "    fill: var(--button-hover-fill-color);\n",
              "  }\n",
              "\n",
              "  .colab-df-quickchart-complete:disabled,\n",
              "  .colab-df-quickchart-complete:disabled:hover {\n",
              "    background-color: var(--disabled-bg-color);\n",
              "    fill: var(--disabled-fill-color);\n",
              "    box-shadow: none;\n",
              "  }\n",
              "\n",
              "  .colab-df-spinner {\n",
              "    border: 2px solid var(--fill-color);\n",
              "    border-color: transparent;\n",
              "    border-bottom-color: var(--fill-color);\n",
              "    animation:\n",
              "      spin 1s steps(1) infinite;\n",
              "  }\n",
              "\n",
              "  @keyframes spin {\n",
              "    0% {\n",
              "      border-color: transparent;\n",
              "      border-bottom-color: var(--fill-color);\n",
              "      border-left-color: var(--fill-color);\n",
              "    }\n",
              "    20% {\n",
              "      border-color: transparent;\n",
              "      border-left-color: var(--fill-color);\n",
              "      border-top-color: var(--fill-color);\n",
              "    }\n",
              "    30% {\n",
              "      border-color: transparent;\n",
              "      border-left-color: var(--fill-color);\n",
              "      border-top-color: var(--fill-color);\n",
              "      border-right-color: var(--fill-color);\n",
              "    }\n",
              "    40% {\n",
              "      border-color: transparent;\n",
              "      border-right-color: var(--fill-color);\n",
              "      border-top-color: var(--fill-color);\n",
              "    }\n",
              "    60% {\n",
              "      border-color: transparent;\n",
              "      border-right-color: var(--fill-color);\n",
              "    }\n",
              "    80% {\n",
              "      border-color: transparent;\n",
              "      border-right-color: var(--fill-color);\n",
              "      border-bottom-color: var(--fill-color);\n",
              "    }\n",
              "    90% {\n",
              "      border-color: transparent;\n",
              "      border-bottom-color: var(--fill-color);\n",
              "    }\n",
              "  }\n",
              "</style>\n",
              "\n",
              "  <script>\n",
              "    async function quickchart(key) {\n",
              "      const quickchartButtonEl =\n",
              "        document.querySelector('#' + key + ' button');\n",
              "      quickchartButtonEl.disabled = true;  // To prevent multiple clicks.\n",
              "      quickchartButtonEl.classList.add('colab-df-spinner');\n",
              "      try {\n",
              "        const charts = await google.colab.kernel.invokeFunction(\n",
              "            'suggestCharts', [key], {});\n",
              "      } catch (error) {\n",
              "        console.error('Error during call to suggestCharts:', error);\n",
              "      }\n",
              "      quickchartButtonEl.classList.remove('colab-df-spinner');\n",
              "      quickchartButtonEl.classList.add('colab-df-quickchart-complete');\n",
              "    }\n",
              "    (() => {\n",
              "      let quickchartButtonEl =\n",
              "        document.querySelector('#df-bf6d83aa-6e51-4d3e-b4ff-ff85105d7b6b button');\n",
              "      quickchartButtonEl.style.display =\n",
              "        google.colab.kernel.accessAllowed ? 'block' : 'none';\n",
              "    })();\n",
              "  </script>\n",
              "</div>\n",
              "\n",
              "    </div>\n",
              "  </div>\n"
            ],
            "application/vnd.google.colaboratory.intrinsic+json": {
              "type": "dataframe",
              "variable_name": "train_df"
            }
          },
          "metadata": {},
          "execution_count": 9
        }
      ]
    },
    {
      "cell_type": "code",
      "source": [
        "# # Pull sample text to test fastai default tokenizer\n",
        "# textSample = train_df['Review'][0]\n",
        "# print(textSample)"
      ],
      "metadata": {
        "trusted": true,
        "id": "wSYj8AiH2JH0"
      },
      "execution_count": null,
      "outputs": []
    },
    {
      "cell_type": "code",
      "source": [
        "# Calculate Review lengths\n",
        "train_df['Review_Length'] = train_df['Review'].apply(len)"
      ],
      "metadata": {
        "execution": {
          "iopub.status.busy": "2024-09-20T06:31:46.594358Z",
          "iopub.execute_input": "2024-09-20T06:31:46.595365Z",
          "iopub.status.idle": "2024-09-20T06:31:47.085498Z",
          "shell.execute_reply.started": "2024-09-20T06:31:46.59531Z",
          "shell.execute_reply": "2024-09-20T06:31:47.084283Z"
        },
        "trusted": true,
        "id": "e9j4o2bk2JH0"
      },
      "execution_count": 10,
      "outputs": []
    },
    {
      "cell_type": "code",
      "source": [
        "# Summary statistics\n",
        "length_stats = train_df['Review_Length'].describe()\n",
        "print(length_stats)\n",
        "\n",
        "# Visualize Review length distribution\n",
        "import matplotlib.pyplot as plt\n",
        "\n",
        "plt.figure(figsize=(10, 6))\n",
        "plt.hist(train_df['Review_Length'], bins=50, color='skyblue', edgecolor='black')\n",
        "plt.title('Distribution of Review Lengths')\n",
        "plt.xlabel('Length of Reviews')\n",
        "plt.ylabel('Frequency')\n",
        "plt.grid(axis='y')\n",
        "plt.show()"
      ],
      "metadata": {
        "execution": {
          "iopub.status.busy": "2024-09-20T06:35:50.249559Z",
          "iopub.execute_input": "2024-09-20T06:35:50.250229Z",
          "iopub.status.idle": "2024-09-20T06:35:50.729871Z",
          "shell.execute_reply.started": "2024-09-20T06:35:50.250163Z",
          "shell.execute_reply": "2024-09-20T06:35:50.728352Z"
        },
        "trusted": true,
        "colab": {
          "base_uri": "https://localhost:8080/",
          "height": 570
        },
        "id": "8Ukh8P7o2JH0",
        "outputId": "09322490-f4a1-417e-e8f1-fd4d6fee8308"
      },
      "execution_count": 11,
      "outputs": [
        {
          "output_type": "stream",
          "name": "stdout",
          "text": [
            "count    650000.000000\n",
            "mean        732.325468\n",
            "std         663.721184\n",
            "min           1.000000\n",
            "25%         287.000000\n",
            "50%         539.000000\n",
            "75%         957.000000\n",
            "max        5637.000000\n",
            "Name: Review_Length, dtype: float64\n"
          ]
        },
        {
          "output_type": "display_data",
          "data": {
            "text/plain": [
              "<Figure size 1000x600 with 1 Axes>"
            ],
            "image/png": "[encoded data removed]"
          },
          "metadata": {}
        }
      ]
    },
    {
      "cell_type": "markdown",
      "source": [
        "Given the distribution, we might want to limit our reviews to an upper and lower bound."
      ],
      "metadata": {
        "id": "HjyTfYRl2JH0"
      }
    },
    {
      "cell_type": "code",
      "source": [
        "# Calculate Q1 (25th percentile) and Q3 (75th percentile)\n",
        "Q1 = train_df['Review_Length'].quantile(0.25)\n",
        "Q3 = train_df['Review_Length'].quantile(0.75)\n",
        "\n",
        "# Calculate IQR\n",
        "IQR = Q3 - Q1\n",
        "\n",
        "# Define upper and lower bounds for outliers\n",
        "lower_bound = Q1 - 1.5 * IQR\n",
        "upper_bound = Q3 + 1.5 * IQR"
      ],
      "metadata": {
        "execution": {
          "iopub.status.busy": "2024-09-20T06:35:00.088946Z",
          "iopub.execute_input": "2024-09-20T06:35:00.089427Z",
          "iopub.status.idle": "2024-09-20T06:35:00.1218Z",
          "shell.execute_reply.started": "2024-09-20T06:35:00.089381Z",
          "shell.execute_reply": "2024-09-20T06:35:00.120328Z"
        },
        "trusted": true,
        "id": "nX_-2HGb2JH0"
      },
      "execution_count": 12,
      "outputs": []
    },
    {
      "cell_type": "code",
      "source": [
        "# Filter the DataFrame to remove outliers\n",
        "filtered_train_df = train_df[(train_df['Review_Length'] >= lower_bound) &\n",
        "                              (train_df['Review_Length'] <= upper_bound)]\n",
        "\n",
        "# Check the new summary statistics\n",
        "print(filtered_train_df['Review_Length'].describe())\n",
        "\n",
        "# Visualize the distribution\n",
        "import matplotlib.pyplot as plt\n",
        "\n",
        "plt.figure(figsize=(10, 6))\n",
        "plt.hist(filtered_train_df['Review_Length'], bins=50, color='skyblue', edgecolor='black')\n",
        "plt.title('Distribution of Review Lengths (Outliers Removed)')\n",
        "plt.xlabel('Length of Reviews')\n",
        "plt.ylabel('Frequency')\n",
        "plt.grid(axis='y')\n",
        "plt.show()"
      ],
      "metadata": {
        "execution": {
          "iopub.status.busy": "2024-09-20T06:35:27.635016Z",
          "iopub.execute_input": "2024-09-20T06:35:27.635457Z",
          "iopub.status.idle": "2024-09-20T06:35:28.156685Z",
          "shell.execute_reply.started": "2024-09-20T06:35:27.635415Z",
          "shell.execute_reply": "2024-09-20T06:35:28.15524Z"
        },
        "trusted": true,
        "colab": {
          "base_uri": "https://localhost:8080/",
          "height": 570
        },
        "id": "HIf_jwhC2JH0",
        "outputId": "1aee8032-5f8d-4009-f121-a3b1c05b4234"
      },
      "execution_count": 13,
      "outputs": [
        {
          "output_type": "stream",
          "name": "stdout",
          "text": [
            "count    614557.000000\n",
            "mean        617.512664\n",
            "std         438.327594\n",
            "min           1.000000\n",
            "25%         274.000000\n",
            "50%         506.000000\n",
            "75%         864.000000\n",
            "max        1962.000000\n",
            "Name: Review_Length, dtype: float64\n"
          ]
        },
        {
          "output_type": "display_data",
          "data": {
            "text/plain": [
              "<Figure size 1000x600 with 1 Axes>"
            ],
            "image/png": "[encoded data removed]"
          },
          "metadata": {}
        }
      ]
    },
    {
      "cell_type": "markdown",
      "source": [
        "Pre-Filtered 75th Percentile Length ~ 960\n",
        "Filtered 75th Percentile Lenght ~ 900 (with buffer, from 864)\n",
        "\n",
        "For our purposes let's experiment with the unfiltered model, starting at 960 and adjusting from there"
      ],
      "metadata": {
        "id": "R3mXfaMo2JH0"
      }
    },
    {
      "cell_type": "code",
      "source": [
        "# Test tokenizer function and output\n",
        "fastAITokenizer = WordTokenizer()\n",
        "\n",
        "# Pre-tokenize dataframe\n",
        "train_df['Review'] = train_df['Review'].apply(fastAITokenizer)\n",
        "\n",
        "# Preview the Dataframe\n",
        "train_df.head(5)"
      ],
      "metadata": {
        "trusted": true,
        "colab": {
          "base_uri": "https://localhost:8080/",
          "height": 348
        },
        "id": "FRzV3Mhw2JH0",
        "outputId": "2ced853c-930f-4eb7-bd55-b15613997f07"
      },
      "execution_count": 19,
      "outputs": [
        {
          "output_type": "stream",
          "name": "stderr",
          "text": [
            "/usr/local/lib/python3.10/dist-packages/spacy/util.py:1740: UserWarning: [W111] Jupyter notebook detected: if using `prefer_gpu()` or `require_gpu()`, include it in the same cell right before `spacy.load()` to ensure that the model is loaded on the correct device. More information: http://spacy.io/usage/v3#jupyter-notebook-gpu\n",
            "  warnings.warn(Warnings.W111)\n"
          ]
        },
        {
          "output_type": "execute_result",
          "data": {
            "text/plain": [
              "   Score  \\\n",
              "0      5   \n",
              "1      2   \n",
              "2      4   \n",
              "3      4   \n",
              "4      1   \n",
              "\n",
              "                                                                            Review  \\\n",
              "0  <generator object SpacyTokenizer.__call__.<locals>.<genexpr> at 0x7cd044db5850>   \n",
              "1  <generator object SpacyTokenizer.__call__.<locals>.<genexpr> at 0x7cd044db5930>   \n",
              "2  <generator object SpacyTokenizer.__call__.<locals>.<genexpr> at 0x7cd044db5a10>   \n",
              "3  <generator object SpacyTokenizer.__call__.<locals>.<genexpr> at 0x7cd044db5af0>   \n",
              "4  <generator object SpacyTokenizer.__call__.<locals>.<genexpr> at 0x7cd044db5bd0>   \n",
              "\n",
              "   Review_Length  \n",
              "0            534  \n",
              "1            643  \n",
              "2            495  \n",
              "3            261  \n",
              "4           1143  "
            ],
            "text/html": [
              "\n",
              "  <div id=\"df-334f840f-8fc4-4f9d-b6ad-c4d00bc3085d\" class=\"colab-df-container\">\n",
              "    <div>\n",
              "<style scoped>\n",
              "    .dataframe tbody tr th:only-of-type {\n",
              "        vertical-align: middle;\n",
              "    }\n",
              "\n",
              "    .dataframe tbody tr th {\n",
              "        vertical-align: top;\n",
              "    }\n",
              "\n",
              "    .dataframe thead th {\n",
              "        text-align: right;\n",
              "    }\n",
              "</style>\n",
              "<table border=\"1\" class=\"dataframe\">\n",
              "  <thead>\n",
              "    <tr style=\"text-align: right;\">\n",
              "      <th></th>\n",
              "      <th>Score</th>\n",
              "      <th>Review</th>\n",
              "      <th>Review_Length</th>\n",
              "    </tr>\n",
              "  </thead>\n",
              "  <tbody>\n",
              "    <tr>\n",
              "      <th>0</th>\n",
              "      <td>5</td>\n",
              "      <td>&lt;generator object SpacyTokenizer.__call__.&lt;locals&gt;.&lt;genexpr&gt; at 0x7cd044db5850&gt;</td>\n",
              "      <td>534</td>\n",
              "    </tr>\n",
              "    <tr>\n",
              "      <th>1</th>\n",
              "      <td>2</td>\n",
              "      <td>&lt;generator object SpacyTokenizer.__call__.&lt;locals&gt;.&lt;genexpr&gt; at 0x7cd044db5930&gt;</td>\n",
              "      <td>643</td>\n",
              "    </tr>\n",
              "    <tr>\n",
              "      <th>2</th>\n",
              "      <td>4</td>\n",
              "      <td>&lt;generator object SpacyTokenizer.__call__.&lt;locals&gt;.&lt;genexpr&gt; at 0x7cd044db5a10&gt;</td>\n",
              "      <td>495</td>\n",
              "    </tr>\n",
              "    <tr>\n",
              "      <th>3</th>\n",
              "      <td>4</td>\n",
              "      <td>&lt;generator object SpacyTokenizer.__call__.&lt;locals&gt;.&lt;genexpr&gt; at 0x7cd044db5af0&gt;</td>\n",
              "      <td>261</td>\n",
              "    </tr>\n",
              "    <tr>\n",
              "      <th>4</th>\n",
              "      <td>1</td>\n",
              "      <td>&lt;generator object SpacyTokenizer.__call__.&lt;locals&gt;.&lt;genexpr&gt; at 0x7cd044db5bd0&gt;</td>\n",
              "      <td>1143</td>\n",
              "    </tr>\n",
              "  </tbody>\n",
              "</table>\n",
              "</div>\n",
              "    <div class=\"colab-df-buttons\">\n",
              "\n",
              "  <div class=\"colab-df-container\">\n",
              "    <button class=\"colab-df-convert\" onclick=\"convertToInteractive('df-334f840f-8fc4-4f9d-b6ad-c4d00bc3085d')\"\n",
              "            title=\"Convert this dataframe to an interactive table.\"\n",
              "            style=\"display:none;\">\n",
              "\n",
              "  <svg xmlns=\"http://www.w3.org/2000/svg\" height=\"24px\" viewBox=\"0 -960 960 960\">\n",
              "    <path d=\"M120-120v-720h720v720H120Zm60-500h600v-160H180v160Zm220 220h160v-160H400v160Zm0 220h160v-160H400v160ZM180-400h160v-160H180v160Zm440 0h160v-160H620v160ZM180-180h160v-160H180v160Zm440 0h160v-160H620v160Z\"/>\n",
              "  </svg>\n",
              "    </button>\n",
              "\n",
              "  <style>\n",
              "    .colab-df-container {\n",
              "      display:flex;\n",
              "      gap: 12px;\n",
              "    }\n",
              "\n",
              "    .colab-df-convert {\n",
              "      background-color: #E8F0FE;\n",
              "      border: none;\n",
              "      border-radius: 50%;\n",
              "      cursor: pointer;\n",
              "      display: none;\n",
              "      fill: #1967D2;\n",
              "      height: 32px;\n",
              "      padding: 0 0 0 0;\n",
              "      width: 32px;\n",
              "    }\n",
              "\n",
              "    .colab-df-convert:hover {\n",
              "      background-color: #E2EBFA;\n",
              "      box-shadow: 0px 1px 2px rgba(60, 64, 67, 0.3), 0px 1px 3px 1px rgba(60, 64, 67, 0.15);\n",
              "      fill: #174EA6;\n",
              "    }\n",
              "\n",
              "    .colab-df-buttons div {\n",
              "      margin-bottom: 4px;\n",
              "    }\n",
              "\n",
              "    [theme=dark] .colab-df-convert {\n",
              "      background-color: #3B4455;\n",
              "      fill: #D2E3FC;\n",
              "    }\n",
              "\n",
              "    [theme=dark] .colab-df-convert:hover {\n",
              "      background-color: #434B5C;\n",
              "      box-shadow: 0px 1px 3px 1px rgba(0, 0, 0, 0.15);\n",
              "      filter: drop-shadow(0px 1px 2px rgba(0, 0, 0, 0.3));\n",
              "      fill: #FFFFFF;\n",
              "    }\n",
              "  </style>\n",
              "\n",
              "    <script>\n",
              "      const buttonEl =\n",
              "        document.querySelector('#df-334f840f-8fc4-4f9d-b6ad-c4d00bc3085d button.colab-df-convert');\n",
              "      buttonEl.style.display =\n",
              "        google.colab.kernel.accessAllowed ? 'block' : 'none';\n",
              "\n",
              "      async function convertToInteractive(key) {\n",
              "        const element = document.querySelector('#df-334f840f-8fc4-4f9d-b6ad-c4d00bc3085d');\n",
              "        const dataTable =\n",
              "          await google.colab.kernel.invokeFunction('convertToInteractive',\n",
              "                                                    [key], {});\n",
              "        if (!dataTable) return;\n",
              "\n",
              "        const docLinkHtml = 'Like what you see? Visit the ' +\n",
              "          '<a target=\"_blank\" href=https://colab.research.google.com/notebooks/data_table.ipynb>data table notebook</a>'\n",
              "          + ' to learn more about interactive tables.';\n",
              "        element.innerHTML = '';\n",
              "        dataTable['output_type'] = 'display_data';\n",
              "        await google.colab.output.renderOutput(dataTable, element);\n",
              "        const docLink = document.createElement('div');\n",
              "        docLink.innerHTML = docLinkHtml;\n",
              "        element.appendChild(docLink);\n",
              "      }\n",
              "    </script>\n",
              "  </div>\n",
              "\n",
              "\n",
              "<div id=\"df-bbb7e0ee-7820-4dd7-9c54-b552e80fbbb0\">\n",
              "  <button class=\"colab-df-quickchart\" onclick=\"quickchart('df-bbb7e0ee-7820-4dd7-9c54-b552e80fbbb0')\"\n",
              "            title=\"Suggest charts\"\n",
              "            style=\"display:none;\">\n",
              "\n",
              "<svg xmlns=\"http://www.w3.org/2000/svg\" height=\"24px\"viewBox=\"0 0 24 24\"\n",
              "     width=\"24px\">\n",
              "    <g>\n",
              "        <path d=\"M19 3H5c-1.1 0-2 .9-2 2v14c0 1.1.9 2 2 2h14c1.1 0 2-.9 2-2V5c0-1.1-.9-2-2-2zM9 17H7v-7h2v7zm4 0h-2V7h2v10zm4 0h-2v-4h2v4z\"/>\n",
              "    </g>\n",
              "</svg>\n",
              "  </button>\n",
              "\n",
              "<style>\n",
              "  .colab-df-quickchart {\n",
              "      --bg-color: #E8F0FE;\n",
              "      --fill-color: #1967D2;\n",
              "      --hover-bg-color: #E2EBFA;\n",
              "      --hover-fill-color: #174EA6;\n",
              "      --disabled-fill-color: #AAA;\n",
              "      --disabled-bg-color: #DDD;\n",
              "  }\n",
              "\n",
              "  [theme=dark] .colab-df-quickchart {\n",
              "      --bg-color: #3B4455;\n",
              "      --fill-color: #D2E3FC;\n",
              "      --hover-bg-color: #434B5C;\n",
              "      --hover-fill-color: #FFFFFF;\n",
              "      --disabled-bg-color: #3B4455;\n",
              "      --disabled-fill-color: #666;\n",
              "  }\n",
              "\n",
              "  .colab-df-quickchart {\n",
              "    background-color: var(--bg-color);\n",
              "    border: none;\n",
              "    border-radius: 50%;\n",
              "    cursor: pointer;\n",
              "    display: none;\n",
              "    fill: var(--fill-color);\n",
              "    height: 32px;\n",
              "    padding: 0;\n",
              "    width: 32px;\n",
              "  }\n",
              "\n",
              "  .colab-df-quickchart:hover {\n",
              "    background-color: var(--hover-bg-color);\n",
              "    box-shadow: 0 1px 2px rgba(60, 64, 67, 0.3), 0 1px 3px 1px rgba(60, 64, 67, 0.15);\n",
              "    fill: var(--button-hover-fill-color);\n",
              "  }\n",
              "\n",
              "  .colab-df-quickchart-complete:disabled,\n",
              "  .colab-df-quickchart-complete:disabled:hover {\n",
              "    background-color: var(--disabled-bg-color);\n",
              "    fill: var(--disabled-fill-color);\n",
              "    box-shadow: none;\n",
              "  }\n",
              "\n",
              "  .colab-df-spinner {\n",
              "    border: 2px solid var(--fill-color);\n",
              "    border-color: transparent;\n",
              "    border-bottom-color: var(--fill-color);\n",
              "    animation:\n",
              "      spin 1s steps(1) infinite;\n",
              "  }\n",
              "\n",
              "  @keyframes spin {\n",
              "    0% {\n",
              "      border-color: transparent;\n",
              "      border-bottom-color: var(--fill-color);\n",
              "      border-left-color: var(--fill-color);\n",
              "    }\n",
              "    20% {\n",
              "      border-color: transparent;\n",
              "      border-left-color: var(--fill-color);\n",
              "      border-top-color: var(--fill-color);\n",
              "    }\n",
              "    30% {\n",
              "      border-color: transparent;\n",
              "      border-left-color: var(--fill-color);\n",
              "      border-top-color: var(--fill-color);\n",
              "      border-right-color: var(--fill-color);\n",
              "    }\n",
              "    40% {\n",
              "      border-color: transparent;\n",
              "      border-right-color: var(--fill-color);\n",
              "      border-top-color: var(--fill-color);\n",
              "    }\n",
              "    60% {\n",
              "      border-color: transparent;\n",
              "      border-right-color: var(--fill-color);\n",
              "    }\n",
              "    80% {\n",
              "      border-color: transparent;\n",
              "      border-right-color: var(--fill-color);\n",
              "      border-bottom-color: var(--fill-color);\n",
              "    }\n",
              "    90% {\n",
              "      border-color: transparent;\n",
              "      border-bottom-color: var(--fill-color);\n",
              "    }\n",
              "  }\n",
              "</style>\n",
              "\n",
              "  <script>\n",
              "    async function quickchart(key) {\n",
              "      const quickchartButtonEl =\n",
              "        document.querySelector('#' + key + ' button');\n",
              "      quickchartButtonEl.disabled = true;  // To prevent multiple clicks.\n",
              "      quickchartButtonEl.classList.add('colab-df-spinner');\n",
              "      try {\n",
              "        const charts = await google.colab.kernel.invokeFunction(\n",
              "            'suggestCharts', [key], {});\n",
              "      } catch (error) {\n",
              "        console.error('Error during call to suggestCharts:', error);\n",
              "      }\n",
              "      quickchartButtonEl.classList.remove('colab-df-spinner');\n",
              "      quickchartButtonEl.classList.add('colab-df-quickchart-complete');\n",
              "    }\n",
              "    (() => {\n",
              "      let quickchartButtonEl =\n",
              "        document.querySelector('#df-bbb7e0ee-7820-4dd7-9c54-b552e80fbbb0 button');\n",
              "      quickchartButtonEl.style.display =\n",
              "        google.colab.kernel.accessAllowed ? 'block' : 'none';\n",
              "    })();\n",
              "  </script>\n",
              "</div>\n",
              "\n",
              "    </div>\n",
              "  </div>\n"
            ],
            "application/vnd.google.colaboratory.intrinsic+json": {
              "type": "dataframe",
              "variable_name": "train_df"
            }
          },
          "metadata": {},
          "execution_count": 19
        }
      ]
    },
    {
      "cell_type": "code",
      "source": [
        "# Building our Training* DataFrame -- will split this\n",
        "dls = TextDataLoaders.from_df(\n",
        "    train_df,\n",
        "    text_col='Review',\n",
        "    label_col='Score',\n",
        "    valid_pct=0.2,\n",
        "    seq_len=500,\n",
        "    bs=128,\n",
        "    seed=42\n",
        ")"
      ],
      "metadata": {
        "execution": {
          "iopub.status.busy": "2024-09-20T06:39:03.436343Z",
          "iopub.execute_input": "2024-09-20T06:39:03.436864Z",
          "iopub.status.idle": "2024-09-20T06:39:13.483439Z",
          "shell.execute_reply.started": "2024-09-20T06:39:03.436814Z",
          "shell.execute_reply": "2024-09-20T06:39:13.480698Z"
        },
        "trusted": true,
        "colab": {
          "base_uri": "https://localhost:8080/",
          "height": 72
        },
        "id": "hHrzFcCb2JH0",
        "outputId": "f39ead25-7979-4972-8f01-3f3fc413dace"
      },
      "execution_count": 20,
      "outputs": [
        {
          "output_type": "stream",
          "name": "stderr",
          "text": [
            "/usr/local/lib/python3.10/dist-packages/spacy/util.py:1740: UserWarning: [W111] Jupyter notebook detected: if using `prefer_gpu()` or `require_gpu()`, include it in the same cell right before `spacy.load()` to ensure that the model is loaded on the correct device. More information: http://spacy.io/usage/v3#jupyter-notebook-gpu\n",
            "  warnings.warn(Warnings.W111)\n"
          ]
        },
        {
          "output_type": "display_data",
          "data": {
            "text/plain": [
              "<IPython.core.display.HTML object>"
            ],
            "text/html": [
              "\n",
              "<style>\n",
              "    /* Turns off some styling */\n",
              "    progress {\n",
              "        /* gets rid of default border in Firefox and Opera. */\n",
              "        border: none;\n",
              "        /* Needs to be in here for Safari polyfill so background images work as expected. */\n",
              "        background-size: auto;\n",
              "    }\n",
              "    progress:not([value]), progress:not([value])::-webkit-progress-bar {\n",
              "        background: repeating-linear-gradient(45deg, #7e7e7e, #7e7e7e 10px, #5c5c5c 10px, #5c5c5c 20px);\n",
              "    }\n",
              "    .progress-bar-interrupted, .progress-bar-interrupted::-webkit-progress-bar {\n",
              "        background: #F44336;\n",
              "    }\n",
              "</style>\n"
            ]
          },
          "metadata": {}
        },
        {
          "output_type": "display_data",
          "data": {
            "text/plain": [
              "<IPython.core.display.HTML object>"
            ],
            "text/html": []
          },
          "metadata": {}
        }
      ]
    },
    {
      "cell_type": "code",
      "source": [
        "print(f'Train dataset size: {len(train_df)}')"
      ],
      "metadata": {
        "colab": {
          "base_uri": "https://localhost:8080/"
        },
        "id": "H35zIK3w9BQf",
        "outputId": "0a88aa96-13eb-4d33-c81e-82a7228fda32"
      },
      "execution_count": 28,
      "outputs": [
        {
          "output_type": "stream",
          "name": "stdout",
          "text": [
            "Train dataset size: 650000\n"
          ]
        }
      ]
    },
    {
      "cell_type": "code",
      "source": [
        "# Preview our *Tokenized* DataLoader\n",
        "dls.show_batch(max_n=2)"
      ],
      "metadata": {
        "colab": {
          "base_uri": "https://localhost:8080/",
          "height": 147
        },
        "id": "vfy4Ztho8Qh-",
        "outputId": "b507e8bb-07d0-4d7b-9b07-bf4669daaf41"
      },
      "execution_count": 21,
      "outputs": [
        {
          "output_type": "display_data",
          "data": {
            "text/plain": [
              "<IPython.core.display.HTML object>"
            ],
            "text/html": [
              "<table border=\"1\" class=\"dataframe\">\n",
              "  <thead>\n",
              "    <tr style=\"text-align: right;\">\n",
              "      <th></th>\n",
              "      <th>text</th>\n",
              "      <th>category</th>\n",
              "    </tr>\n",
              "  </thead>\n",
              "  <tbody>\n",
              "    <tr>\n",
              "      <th>0</th>\n",
              "      <td>xxbos &lt; generator object spacytokenizer.__call__.&lt;locals&gt;.&lt;genexpr &gt; at 0x7cd xxrep 3 0 7 xxrep 3 a 40 &gt;</td>\n",
              "      <td>1</td>\n",
              "    </tr>\n",
              "    <tr>\n",
              "      <th>1</th>\n",
              "      <td>xxbos &lt; generator object spacytokenizer.__call__.&lt;locals&gt;.&lt;genexpr &gt; at 0x7cd01b xxrep 3 5 fc0 &gt;</td>\n",
              "      <td>5</td>\n",
              "    </tr>\n",
              "  </tbody>\n",
              "</table>"
            ]
          },
          "metadata": {}
        }
      ]
    },
    {
      "cell_type": "code",
      "source": [
        "# Building the Learner\n",
        "learnNLP = text_classifier_learner(\n",
        "    dls,\n",
        "    AWD_LSTM,\n",
        "    drop_mult=0.3,\n",
        "    metrics=[accuracy, Perplexity()]\n",
        ").to_fp16()"
      ],
      "metadata": {
        "colab": {
          "base_uri": "https://localhost:8080/"
        },
        "id": "3dMzEvBo2JH0",
        "outputId": "c3a45179-d96b-4f9d-88fa-cdbc1edadc68"
      },
      "execution_count": 29,
      "outputs": [
        {
          "output_type": "stream",
          "name": "stderr",
          "text": [
            "/usr/local/lib/python3.10/dist-packages/fastai/text/learner.py:149: FutureWarning: You are using `torch.load` with `weights_only=False` (the current default value), which uses the default pickle module implicitly. It is possible to construct malicious pickle data which will execute arbitrary code during unpickling (See https://github.com/pytorch/pytorch/blob/main/SECURITY.md#untrusted-models for more details). In a future release, the default value for `weights_only` will be flipped to `True`. This limits the functions that could be executed during unpickling. Arbitrary objects will no longer be allowed to be loaded via this mode unless they are explicitly allowlisted by the user via `torch.serialization.add_safe_globals`. We recommend you start setting `weights_only=True` for any use case where you don't have full control of the loaded file. Please open an issue on GitHub for any issues related to this experimental feature.\n",
            "  wgts = torch.load(wgts_fname, map_location = lambda storage,loc: storage)\n"
          ]
        }
      ]
    },
    {
      "cell_type": "code",
      "source": [
        "# Intermediate Model Results\n",
        "learnNLP.fit_one_cycle(1, 2e-2)"
      ],
      "metadata": {
        "colab": {
          "base_uri": "https://localhost:8080/",
          "height": 170
        },
        "id": "m270GRJN8bSA",
        "outputId": "981cf4e4-ef06-498f-a00d-edae395987a7"
      },
      "execution_count": 30,
      "outputs": [
        {
          "output_type": "stream",
          "name": "stderr",
          "text": [
            "/usr/local/lib/python3.10/dist-packages/fastai/callback/fp16.py:47: FutureWarning: `torch.cuda.amp.autocast(args...)` is deprecated. Please use `torch.amp.autocast('cuda', args...)` instead.\n",
            "  self.autocast,self.learn.scaler,self.scales = autocast(dtype=dtype),GradScaler(**self.kwargs),L()\n",
            "/usr/local/lib/python3.10/dist-packages/fastai/callback/fp16.py:47: FutureWarning: `torch.cuda.amp.GradScaler(args...)` is deprecated. Please use `torch.amp.GradScaler('cuda', args...)` instead.\n",
            "  self.autocast,self.learn.scaler,self.scales = autocast(dtype=dtype),GradScaler(**self.kwargs),L()\n"
          ]
        },
        {
          "output_type": "display_data",
          "data": {
            "text/plain": [
              "<IPython.core.display.HTML object>"
            ],
            "text/html": [
              "\n",
              "<style>\n",
              "    /* Turns off some styling */\n",
              "    progress {\n",
              "        /* gets rid of default border in Firefox and Opera. */\n",
              "        border: none;\n",
              "        /* Needs to be in here for Safari polyfill so background images work as expected. */\n",
              "        background-size: auto;\n",
              "    }\n",
              "    progress:not([value]), progress:not([value])::-webkit-progress-bar {\n",
              "        background: repeating-linear-gradient(45deg, #7e7e7e, #7e7e7e 10px, #5c5c5c 10px, #5c5c5c 20px);\n",
              "    }\n",
              "    .progress-bar-interrupted, .progress-bar-interrupted::-webkit-progress-bar {\n",
              "        background: #F44336;\n",
              "    }\n",
              "</style>\n"
            ]
          },
          "metadata": {}
        },
        {
          "output_type": "display_data",
          "data": {
            "text/plain": [
              "<IPython.core.display.HTML object>"
            ],
            "text/html": [
              "<table border=\"1\" class=\"dataframe\">\n",
              "  <thead>\n",
              "    <tr style=\"text-align: left;\">\n",
              "      <th>epoch</th>\n",
              "      <th>train_loss</th>\n",
              "      <th>valid_loss</th>\n",
              "      <th>accuracy</th>\n",
              "      <th>perplexity</th>\n",
              "      <th>time</th>\n",
              "    </tr>\n",
              "  </thead>\n",
              "  <tbody>\n",
              "    <tr>\n",
              "      <td>0</td>\n",
              "      <td>1.609862</td>\n",
              "      <td>1.609508</td>\n",
              "      <td>0.200769</td>\n",
              "      <td>5.000352</td>\n",
              "      <td>12:02</td>\n",
              "    </tr>\n",
              "  </tbody>\n",
              "</table>"
            ]
          },
          "metadata": {}
        }
      ]
    },
    {
      "cell_type": "code",
      "source": [
        "learnNLP.save('1epoch')\n",
        "learnNLP = learnNLP.load('1epoch')"
      ],
      "metadata": {
        "colab": {
          "base_uri": "https://localhost:8080/"
        },
        "id": "dtVaesK68ev3",
        "outputId": "60b2a808-af01-4454-9411-251114a0aef0"
      },
      "execution_count": 31,
      "outputs": [
        {
          "output_type": "execute_result",
          "data": {
            "text/plain": [
              "Path('models/1epoch.pth')"
            ]
          },
          "metadata": {},
          "execution_count": 31
        }
      ]
    },
    {
      "cell_type": "code",
      "source": [
        "learnNLP.unfreeze()\n",
        "learnNLP.fit_one_cycle(10, 2e-3)"
      ],
      "metadata": {
        "colab": {
          "base_uri": "https://localhost:8080/",
          "height": 452
        },
        "id": "OML23puJ94lq",
        "outputId": "2f3606e2-e5fd-41e8-902f-4fee40b0ab40"
      },
      "execution_count": 32,
      "outputs": [
        {
          "output_type": "stream",
          "name": "stderr",
          "text": [
            "/usr/local/lib/python3.10/dist-packages/fastai/callback/fp16.py:47: FutureWarning: `torch.cuda.amp.autocast(args...)` is deprecated. Please use `torch.amp.autocast('cuda', args...)` instead.\n",
            "  self.autocast,self.learn.scaler,self.scales = autocast(dtype=dtype),GradScaler(**self.kwargs),L()\n",
            "/usr/local/lib/python3.10/dist-packages/fastai/callback/fp16.py:47: FutureWarning: `torch.cuda.amp.GradScaler(args...)` is deprecated. Please use `torch.amp.GradScaler('cuda', args...)` instead.\n",
            "  self.autocast,self.learn.scaler,self.scales = autocast(dtype=dtype),GradScaler(**self.kwargs),L()\n"
          ]
        },
        {
          "output_type": "display_data",
          "data": {
            "text/plain": [
              "<IPython.core.display.HTML object>"
            ],
            "text/html": [
              "\n",
              "<style>\n",
              "    /* Turns off some styling */\n",
              "    progress {\n",
              "        /* gets rid of default border in Firefox and Opera. */\n",
              "        border: none;\n",
              "        /* Needs to be in here for Safari polyfill so background images work as expected. */\n",
              "        background-size: auto;\n",
              "    }\n",
              "    progress:not([value]), progress:not([value])::-webkit-progress-bar {\n",
              "        background: repeating-linear-gradient(45deg, #7e7e7e, #7e7e7e 10px, #5c5c5c 10px, #5c5c5c 20px);\n",
              "    }\n",
              "    .progress-bar-interrupted, .progress-bar-interrupted::-webkit-progress-bar {\n",
              "        background: #F44336;\n",
              "    }\n",
              "</style>\n"
            ]
          },
          "metadata": {}
        },
        {
          "output_type": "display_data",
          "data": {
            "text/plain": [
              "<IPython.core.display.HTML object>"
            ],
            "text/html": [
              "<table border=\"1\" class=\"dataframe\">\n",
              "  <thead>\n",
              "    <tr style=\"text-align: left;\">\n",
              "      <th>epoch</th>\n",
              "      <th>train_loss</th>\n",
              "      <th>valid_loss</th>\n",
              "      <th>accuracy</th>\n",
              "      <th>perplexity</th>\n",
              "      <th>time</th>\n",
              "    </tr>\n",
              "  </thead>\n",
              "  <tbody>\n",
              "    <tr>\n",
              "      <td>0</td>\n",
              "      <td>1.609809</td>\n",
              "      <td>1.609502</td>\n",
              "      <td>0.199408</td>\n",
              "      <td>5.000319</td>\n",
              "      <td>12:16</td>\n",
              "    </tr>\n",
              "    <tr>\n",
              "      <td>1</td>\n",
              "      <td>1.609501</td>\n",
              "      <td>1.609644</td>\n",
              "      <td>0.200085</td>\n",
              "      <td>5.001029</td>\n",
              "      <td>12:17</td>\n",
              "    </tr>\n",
              "    <tr>\n",
              "      <td>2</td>\n",
              "      <td>1.609495</td>\n",
              "      <td>1.609828</td>\n",
              "      <td>0.200908</td>\n",
              "      <td>5.001948</td>\n",
              "      <td>12:19</td>\n",
              "    </tr>\n",
              "    <tr>\n",
              "      <td>3</td>\n",
              "      <td>1.609651</td>\n",
              "      <td>1.611137</td>\n",
              "      <td>0.199323</td>\n",
              "      <td>5.008503</td>\n",
              "      <td>12:06</td>\n",
              "    </tr>\n",
              "    <tr>\n",
              "      <td>4</td>\n",
              "      <td>1.609344</td>\n",
              "      <td>1.609675</td>\n",
              "      <td>0.199877</td>\n",
              "      <td>5.001186</td>\n",
              "      <td>12:13</td>\n",
              "    </tr>\n",
              "    <tr>\n",
              "      <td>5</td>\n",
              "      <td>1.609628</td>\n",
              "      <td>1.609631</td>\n",
              "      <td>0.199377</td>\n",
              "      <td>5.000966</td>\n",
              "      <td>12:10</td>\n",
              "    </tr>\n",
              "    <tr>\n",
              "      <td>6</td>\n",
              "      <td>1.609414</td>\n",
              "      <td>1.609541</td>\n",
              "      <td>0.200085</td>\n",
              "      <td>5.000515</td>\n",
              "      <td>12:08</td>\n",
              "    </tr>\n",
              "    <tr>\n",
              "      <td>7</td>\n",
              "      <td>1.609493</td>\n",
              "      <td>1.609442</td>\n",
              "      <td>0.201077</td>\n",
              "      <td>5.000020</td>\n",
              "      <td>12:01</td>\n",
              "    </tr>\n",
              "    <tr>\n",
              "      <td>8</td>\n",
              "      <td>1.609440</td>\n",
              "      <td>1.609432</td>\n",
              "      <td>0.201200</td>\n",
              "      <td>4.999971</td>\n",
              "      <td>12:08</td>\n",
              "    </tr>\n",
              "    <tr>\n",
              "      <td>9</td>\n",
              "      <td>1.609420</td>\n",
              "      <td>1.609435</td>\n",
              "      <td>0.201077</td>\n",
              "      <td>4.999987</td>\n",
              "      <td>12:03</td>\n",
              "    </tr>\n",
              "  </tbody>\n",
              "</table>"
            ]
          },
          "metadata": {}
        }
      ]
    },
    {
      "cell_type": "code",
      "source": [
        "learnNLP.save_encoder('finetuned')"
      ],
      "metadata": {
        "id": "MdUQl1Lj_fkW"
      },
      "execution_count": 33,
      "outputs": []
    },
    {
      "cell_type": "code",
      "source": [
        "# dls.vocab"
      ],
      "metadata": {
        "id": "BK-o-7I9e2U1"
      },
      "execution_count": 38,
      "outputs": []
    },
    {
      "cell_type": "code",
      "source": [
        "# Use the vocab from dls directly\n",
        "vocab = dls.vocab\n",
        "\n",
        "# Print the type and some sample values from the vocab\n",
        "print(f\"Type of vocab: {type(vocab)}\")\n",
        "print(f\"Sample vocab items: {vocab[:10]}\")  # Print first 10 items in the vocab"
      ],
      "metadata": {
        "colab": {
          "base_uri": "https://localhost:8080/"
        },
        "id": "1nRXYUGSAYYb",
        "outputId": "530417cf-7e74-4ae5-be81-1f6eb09f26a3"
      },
      "execution_count": 40,
      "outputs": [
        {
          "output_type": "stream",
          "name": "stdout",
          "text": [
            "Type of vocab: <class 'fastcore.foundation.L'>\n",
            "Sample vocab items: [['xxunk', 'xxpad', 'xxbos', 'xxeos', 'xxfld', 'xxrep', 'xxwrep', 'xxup', 'xxmaj', '>', '<', 'generator', 'object', 'spacytokenizer.__call__.<locals>.<genexpr', 'at', '3', '0', '0x7cd', '4', 'f', '0x7cd0', '0x7cc', '6', '0x7cd04', '5', '7', '9', 'c', 'b', 'd', 'a', '2', '8', '40', '1', 'e', 'a0', '50', '0x7cd03', '0x7cd06', 'b0', '30', 'c0', '90', '20', '0x7cd01', '60', 'd0', '0x7cd061', '10', 'f0', '0x7cd02e', '0x7ccfe', '0x7ccfd', '0x7cd049', '0x7cd07', '0x7cd030', '00', 'e0', '80', '70', '0x7cd047', '0x7cd048', '0x7cd03f', '0x7cd03c', '0x7cd036', '0x7cd040', '0x7cd03b', '0x7ccfde', '0x7cd037', '0x7cd065', '0x7cd04e', '0x7cd04b', '0x7cd04d', '0x7cd03d', '0x7cd04a', '0x7cd060', '0x7ccff7', '0x7cd046', '0x7cd062', '0x7cd043', '0x7cd019', '0x7ccfe7', '0x7cd04c', '0x7cd064', '0x7cd032', '0x7cd063', '0x7cd045', '0x7cd039', '070', '230', '310', '3f0', '4d0', '690', '770', '850', 'a10', 'af0', 'bd0', 'cb0', 'e70', 'f50', '0d0', '1b0', '290', '450', '530', '610', '6f0', '8b0', '990', 'a70', 'c30', 'd10', 'df0', 'ed0', '120', '200', '2e0', '3c0', '580', '660', '740', '900', '9e0', 'ac0', 'ba0', 'd60', 'e40', 'f20', '060', '140', '220', '4c0', '5a0', '680', '840', '920', 'a00', 'ae0', 'ca0', 'd80', 'e60', '0x7cd035', '0x7cd074', '0x7ccfee', '0x7ccfe5', '0x7ccfd9', '0x7ccfda', '0x7ccfe0', '0x7cd038', '0x7cd01f', '0x7cd01b', '0x7cd013', '0x7cd007', '370', '0x7cd07e', '5b0', 'd90', '0x7cd031', '030', '110', '1f0', '3b0', '490', '570', '730', '810', '8f0', '9d0', 'b90', 'c70', 'd50', 'f10', 'ff0', '0x7cd012', '0x7ccffe', '0x7ccfe2', '0x7cd034', '0x7ccfeb', '0x7ccfd7', '0x7cd033', '0x7cd03e', '0x7cd076', '0x7cd01e', '0x7cd01d', '0x7cd01a', '0x7cd017', '0x7cd00e', '0x7cd00d', '0x7cd009', '0x7cd00a', '0x7ccff4', '0x7ccff2', '0x7ccfea', '0x7ccff1', '150', '0e0', '2a0', '380', '460', '620', '700', '7e0', '8c0', 'a80', 'b60', 'c40', 'e00', 'ee0', 'fc0', '0x7cd066', '0x7cd042', '0x7cd02c', '0x7ccff6', '0x7ccff8', 'c80', '300', '3e0', 'bc0', '650', '930', '7d0', '820', '1c0', 'b50', 'f40', '9a0', '2d0', '040', 'e30', '4a0', '0a0', '180', '340', '420', '500', '5e0', '7a0', '880', '960', 'b20', 'c00', 'ce0', 'dc0', 'f80', 'ea0', '760', 'd20', '540', 'ab0', '0x7cd043a', '0x7cd063d', '0x7ccfd7f', '0x7cd071d', '0x7cd0651', '6c0', '190', '270', '350', '510', '5f0', '6d0', '7b0', '970', 'a50', 'b30', 'dd0', 'eb0', 'f90', '0x7cd0624', '0x7ccfe52', 'a40', '0x7cd0302', '0x7cd033b', '0x7cd0779', '0x7cd0156', '0x7cd007d', '0x7ccff6f', '0x7ccff7e', '0x7ccff0e', '0x7cd062a', '0x7cd04c3', '0x7cd0397', '890', '0x7cd0611', '0x7cd0649', '0x7cd0422', '0x7cd0342', '0x7cd04e1', '0x7ccfd99', '0x7cd03c6', '0x7cd04bf', '0x7cd04bd', '0x7cd0418', '0x7cd03ba', '0x7cd033a', '0x7cd03a0', '0x7cd038a', '0x7cd02e0', '0x7cd01c5', '0x7ccff9b', '0x7ccfed6', '0x7ccfef7', '0x7ccff31', '0x7ccfde1', '260', '0x7cd0459', '0x7cd03a3', '0x7cd0642', '0b0', 'c10', 'cf0', '0x7cd03ad', '0x7cd064a', '0x7cd04d8', '0x7cd0617', '0x7cd0618', '0x7cd03f1', '0x7cd0301', '0x7cd03ae', '0x7cd04d7', '0x7cd0631', '0x7cd060a', '0x7cd0332', '0x7cd0371', '0x7cd042f', '0x7cd0327', '0x7cd065b', '0x7cd04f8', '0x7cd0419', '0x7cd03f5', '0x7cd03f8', '0x7cd03c0', '0x7cd036f', '0x7cd0357', '0x7cd0176', '0x7cd009e', '0x7cd0065', '0x7ccfe80', '0x7ccfe3b', '0x7ccfe70', '0x7ccfe25', '0x7cd045b', '0x7cd04a3', '0x7cd03b6', '0x7cd01dd', '0x7cd04c8', '0x7cd0317', '0x7cd061d', '0x7cd0329', '0x7cd02ea', '0x7ccff8d', '0x7ccff68', '0x7ccfed1', '0x7ccfeb8', '0x7ccfe29', '0x7ccfde2', '0x7cd03bd', '0x7cd0621', '0x7cd04e5', '0x7cd037a', '0x7cd0654', '0x7cd03bb', '0x7cd031d', '0x7ccfebf', '0x7ccfe05', '0x7cd046f', '0x7cd0771', '0x7cd031c', '0x7cd037e', '0x7cd03d4', '0x7cd044b', '0x7cd03f7', '0x7cd0620', '0x7cd0461', '0x7cd061b', '0x7cd04b0', '0x7cd0475', '0x7cd0437', '0x7cd039b', '0x7cd0374', '0x7cd030c', '0x7cd04af', '0x7cd0425', '0x7cd0323', '0x7cd035e', '0x7cd033c', '0x7cd01f5', '0x7cd01ae', '0x7cd0112', '0x7cd00fc', '0x7cd0094', '0x7ccffac', '0x7ccff87', '0x7ccff05', '0x7ccfea1', '0x7ccfe7d', '0x7cd0455', '10e0', '11c0', '12a0', '1380', '1460', '1540', '1620', '1700', '17e0', '18c0', '19a0', '1a80', '1b60', '1c40', '1d20', '1e00', '1ee0', '1fc0', '20a0', '2180', '2260', '2340', '2420', '2500', '25e0', '26c0', '27a0', '2880', '2960', '2a40', '2b20', '2c00', '2ce0', '2dc0', '2ea0', '2f80', '3060', '3140', '3220', '3300', '33e0', '34c0', '35a0', '3680', '3760', '3840', '3920', '3a00', '3ae0', '3bc0', '3ca0', '3d80', '3e60', '3f40', '0x7cd048f', '0x7cd046c', '4040', '4120', '4200', '42e0', '43c0', '44a0', '4580', '4660', '4740', '4820', '4900', '49e0', '4ac0', '4ba0', '4c80', '4d60', '4e40', '4f20', '50e0', '51c0', '52a0', '5380', '5460', '5540', '5620', '5700', '57e0', '58c0', '59a0', '5a80', '5b60', '5c40', '5d20', '5e00', '5ee0', '5fc0', '0x7ccfde8', '430', '0x7cd04df', '0x7cd03fb', '0x7cd0660', '0x7cd04cf', '0x7cd0662', '0x7cd04fa', '0x7cd04f9', '0x7cd0466', '0x7cd0490', '0x7cd0610', '0x7cd04ae', '0x7cd04bc', '0x7cd0448', '0x7cd0359', '0x7cd0398', '0x7cd012a', '0x7ccfdba', '0x7cd0636', '0x7cd04ff', '0x7cd04e0', '0x7cd0478', '0x7cd0489', '0x7cd043f', '0x7cd03ec', '0x7cd0319', '0x7ccfecd', '0x7ccfe15', '0x7ccfda9', '0x7cd048b', '0x7cd04fb', '0x7cd0325', '0x7cd0315', '0x7cd049c', '0x7cd04a6', '0x7cd04bb', '0x7cd0464', '0x7cd0470', '0x7cd04ba', '0x7cd0604', '0x7cd0607', '0x7cd04f6', '0x7cd0497', '0x7cd062d', '0x7cd04d0', '0x7cd03c1', '0x7cd0340', '0x7cd078d', '0x7cd041b', '0x7cd0474', '0x7cd0300', '0x7cd02c3', '0x7cd02d3', '0x7cd02c6', '0x7cd01fd', '0x7cd0150', '0x7cd0131', '0x7cd00e5', '0x7cd00b6', '0x7cd0018', '0x7ccffc3', '0x7ccffb3', '0x7ccffa2', '0x7ccff3a', '0x7ccfedf', '0x7ccfea8', '0x7ccfe49', '0x7ccfdc8', '0x7ccfe7a', '0040', '0120', '0200', '02e0', '03c0', '04a0', '0580', '0660', '0740', '0820', '0900', '09e0', '0ac0', '0ba0', '0c80', '0d60', '0e40', '0f20', '0x7cd07e9', '0x7cd07e5', '0x7cd02fe', '0x7cd04f5', '0x7cd0415', '0x7cd04a5', '0x7cd062b', '60a0', '6180', '6260', '6340', '6420', '6500', '65e0', '66c0', '67a0', '6880', '6960', '6a40', '6b20', '6c00', '6ce0', '6dc0', '6ea0', '6f80', '7060', '7140', '7220', '7300', '73e0', '74c0', '75a0', '7680', '7760', '7840', '7920', '7a00', '7ae0', '7bc0', '7ca0', '7d80', '7e60', '7f40', '0x7ccff94', '0x7cd030d', '0x7cd03b5', '0x7cd04b1', '80b0', '8190', '8270', '8350', '8430', '8510', '85f0', '86d0', '87b0', '8890', '8970', '8a50', '8b30', '8c10', '8cf0', '8dd0', '8eb0', '8f90', '9070', '9150', '9230', '9310', '93f0', '94d0', '95b0', '9690', '9770', '9850', '9930', '9a10', '9af0', '9bd0', '9cb0', '9d90', '9e70', '9f50', '0x7cd04a4', '0x7cd047d', '40b0', '4190', '4270', '4350', '4430', '4510', '45f0', '46d0', '47b0', '4890', '4970', '4a50', '4b30', '4c10', '4cf0', '4dd0', '4eb0', '4f90', '5070', '5150', '5230', '5310', '53f0', '54d0', '55b0', '5690', '5770', '5850', '5930', '5a10', '5af0', '5bd0', '5cb0', '5d90', '5e70', '5f50', '70d0', '71b0', '7290', '7370', '7450', '7530', '7610', '76f0', '77d0', '78b0', '7990', '7a70', '7b50', '7c30', '7d10', '7df0', '7ed0', '0x7cd0485', '0x7cd04c0', '0x7cd0313', '0x7cd04db', '0x7cd03f0', '0x7cd060b', '0x7cd0348', '0x7cd00ac', '0x7ccffe9', '0x7ccfdd4', '0x7cd0369', '0x7cd0305', '0x7cd03e7', '0x7cd039f', '0x7cd0488', '0x7cd03f3', '0x7cd04cb', '0x7cd0616', '0x7cd04fe', '0x7cd041e', '0x7cd03c7', '0x7cd03af', '0x7cd016f', '0x7ccfe91', '0x7ccfe69', '0x7ccfe5f', '0x7ccfda2', '0x7ccfdef', '0x7cd04e3', '0x7cd065e', '0x7cd035c', '0x7cd0309', '0x7cd03d3', '0x7cd0347', '0x7cd0353', '0x7cd048d', '0x7cd03a7', '0x7cd03a8', '0x7cd0372', '0x7cd038e', '0x7cd0304', '0x7cd03a1', '0x7cd03cb', '0x7cd04e2', '0x7cd0382', '0x7cd0364', '0x7cd046b', '0x7cd0608', '0x7cd0465', '0x7cd0469', '0x7cd04fc', '0x7cd0653', '0x7cd04de', '0x7cd047b', '0x7cd0487', '0x7cd03bf', '0x7cd0308', '0x7cd0721', '0x7cd04f7', '0x7cd0420', '0x7cd0366', '0x7cd040a', '0x7cd03e4', '0x7cd03b3', '0x7cd037b', '0x7cd02d7', '0x7cd02ce', '0x7cd01ea', '0x7cd01b5', '0x7cd019e', '0x7cd0184', '0x7cd0193', '0x7cd0195', '0x7cd0164', '0x7cd0151', '0x7cd0141', '0x7cd0149', '0x7cd0123', '0x7cd0119', '0x7cd00c4', '0x7cd00f1', '0x7cd00db', '0x7cd00d4', '0x7cd0084', '0x7cd004d', '0x7ccffde', '0x7ccffe3', '0x7ccffd1', '0x7ccff83', '0x7ccff24', '0x7ccfe32', '0x7ccff48', '0x7ccfe8a', '0x7ccff1c', '0x7ccff15', '0x7ccfeaf', '0x7cd044e', '0x7cd045a', '0x7cd0458', '0x7cd03b7', '0x7cd0751', '0x7cd03e3', '0x7cd0641', '0x7ccfec6', '0x7cd0663', '0x7cd04f0', '0x7cd04aa', 'b0d0', 'b1b0', 'b290', 'b370', 'b450', 'b530', 'b610', 'b6f0', 'b7d0', 'b8b0', 'b990', 'ba70', 'bb50', 'bc30', 'bd10', 'bdf0', 'bed0', '0x7cd062f', '0x7cd047c', '0x7cd04ab', '0x7cd0486', '0x7cd04a0', '0x7cd049f', '0x7cd03bc', '0x7cd063f', '0x7cd0640', '0x7cd04b7', '0x7cd02dc', '0x7cd01ef', '0x7cd00f7', '0x7cd006c', '0x7ccffca', '0x7ccfe77', '0x7ccfe26', '0x7ccfd95', '0x7cd036d', '0x7cd060f', '90e0', '91c0', '92a0', '9380', '9460', '9540', '9620', '9700', '97e0', '98c0', '99a0', '9a80', '9b60', '9c40', '9d20', '9e00', '9ee0', '9fc0', 'a0a0', 'a180', 'a260', 'a340', 'a420', 'a500', 'a5e0', 'a6c0', 'a7a0', 'a880', 'a960', 'aa40', 'ab20', 'ac00', 'ace0', 'adc0', 'aea0', 'af80', 'b060', 'b140', 'b220', 'b300', 'b3e0', 'b4c0', 'b5a0', 'b680', 'b760', 'b840', 'b920', 'ba00', 'bae0', 'bbc0', 'bca0', 'bd80', 'be60', 'bf40', '0x7cd0622', '6030', '6110', '61f0', '62d0', '63b0', '6490', '6570', '6650', '6730', '6810', '68f0', '69d0', '6ab0', '6b90', '6c70', '6d50', '6e30', '6f10', '6ff0', '0x7cd0665', '0x7cd0632', '0x7cd063e', '0x7cd03be', '0x7cd04f1', '0x7cd0336', '0x7cd03a4', '0x7cd04e9', '0x7cd0601', '0x7cd04be', '0x7cd0373', '0x7cd0350', 'a030', 'a110', 'a1f0', 'a2d0', 'a3b0', 'a490', 'a570', 'a650', 'a730', 'a810', 'a8f0', 'a9d0', 'aab0', 'ab90', 'ac70', 'ad50', 'ae30', 'af10', 'aff0', '0x7ccfe81', '0x7cd0482', '0x7cd04d6', '0x7cd063b', '0x7cd033e', '0x7cd0312', '0x7cd0307', '0x7cd0318', '0x7cd047f', '0x7cd04c1', '0x7cd0609', '0x7cd061f', '0x7cd04e7', '0x7cd0612', '0x7cd0646', '0x7cd04d5', '0x7cd0648', '0x7cd062c', '0x7cd064c', '0x7cd061e', '0x7cd04d4', '0x7cd0494', '0x7cd0496', '0x7cd043b', '0x7cd03df', '0x7cd03fa', '0x7cd03d7', '0x7cd03e0', '0x7cd03fc', '0x7cd03ab', '0x7cd0600', '0x7cd0443', '0x7cd03d0', '0x7cd032e', '0x7cd02e7', '0x7cd02de', '0x7cd01d6', '0x7cd01a7', '0x7cd0102', '0x7cd016a', '0x7cd00cd', '0x7cd0098', '0x7cd00a5', '0x7cd0041', '0x7cd003b', '0x7cd002f', '0x7ccffda', '0x7ccff58', '0x7ccfef6', '0x7ccff76', '0x7ccff2d', '0x7ccfe7c', 'xxfake', 'xxfake', 'xxfake', 'xxfake', 'xxfake'], [1, 2, 3, 4, 5]]\n"
          ]
        }
      ]
    },
    {
      "cell_type": "code",
      "source": [
        "# Define your get_y function\n",
        "def get_y(row):\n",
        "    return row['Score']\n",
        "\n",
        "# Ensure vocab is a simple list (not a list of lists)\n",
        "vocab = [item for sublist in dls.vocab for item in sublist]\n",
        "\n",
        "# Create DataBlock for classification\n",
        "dls_clas = DataBlock(\n",
        "    blocks=(TextBlock.from_df('Review', vocab=vocab, seq_len=500), CategoryBlock),\n",
        "    get_y=get_y,\n",
        "    splitter=RandomSplitter(valid_pct=0.2, seed=42)\n",
        ")\n",
        "\n",
        "# Create DataLoaders\n",
        "dls_C = dls_clas.dataloaders(train_df, bs=128)"
      ],
      "metadata": {
        "colab": {
          "base_uri": "https://localhost:8080/",
          "height": 92
        },
        "id": "9WOxI8VLdqTB",
        "outputId": "6626209f-9963-448b-df35-c007e26cb08f"
      },
      "execution_count": null,
      "outputs": [
        {
          "output_type": "stream",
          "name": "stderr",
          "text": [
            "/usr/local/lib/python3.10/dist-packages/spacy/util.py:1740: UserWarning: [W111] Jupyter notebook detected: if using `prefer_gpu()` or `require_gpu()`, include it in the same cell right before `spacy.load()` to ensure that the model is loaded on the correct device. More information: http://spacy.io/usage/v3#jupyter-notebook-gpu\n",
            "  warnings.warn(Warnings.W111)\n"
          ]
        },
        {
          "output_type": "display_data",
          "data": {
            "text/plain": [
              "<IPython.core.display.HTML object>"
            ],
            "text/html": [
              "\n",
              "<style>\n",
              "    /* Turns off some styling */\n",
              "    progress {\n",
              "        /* gets rid of default border in Firefox and Opera. */\n",
              "        border: none;\n",
              "        /* Needs to be in here for Safari polyfill so background images work as expected. */\n",
              "        background-size: auto;\n",
              "    }\n",
              "    progress:not([value]), progress:not([value])::-webkit-progress-bar {\n",
              "        background: repeating-linear-gradient(45deg, #7e7e7e, #7e7e7e 10px, #5c5c5c 10px, #5c5c5c 20px);\n",
              "    }\n",
              "    .progress-bar-interrupted, .progress-bar-interrupted::-webkit-progress-bar {\n",
              "        background: #F44336;\n",
              "    }\n",
              "</style>\n"
            ]
          },
          "metadata": {}
        },
        {
          "output_type": "display_data",
          "data": {
            "text/plain": [
              "<IPython.core.display.HTML object>"
            ],
            "text/html": [
              "\n",
              "    <div>\n",
              "      <progress value='318637' class='' max='650000' style='width:300px; height:20px; vertical-align: middle;'></progress>\n",
              "      49.02% [318637/650000 01:59&lt;02:03]\n",
              "    </div>\n",
              "    "
            ]
          },
          "metadata": {}
        }
      ]
    },
    {
      "cell_type": "code",
      "source": [],
      "metadata": {
        "id": "4HtiGQSwftgs"
      },
      "execution_count": null,
      "outputs": []
    },
    {
      "cell_type": "code",
      "source": [],
      "metadata": {
        "id": "hY0OKNYAgfjL"
      },
      "execution_count": null,
      "outputs": []
    }
  ]
}